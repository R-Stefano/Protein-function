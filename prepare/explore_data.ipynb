{
 "cells": [
  {
   "cell_type": "markdown",
   "metadata": {},
   "source": [
    "This scripts explore the data and creates a yaml file. \n",
    "The yaml file contains info about ... useful later on for\n",
    "hot encoding and .. "
   ]
  },
  {
   "cell_type": "code",
   "execution_count": 1,
   "metadata": {},
   "outputs": [
    {
     "name": "stdout",
     "output_type": "stream",
     "text": [
      "Collecting seaborn\n",
      "  Using cached https://files.pythonhosted.org/packages/a8/76/220ba4420459d9c4c9c9587c6ce607bf56c25b3d3d2de62056efe482dadc/seaborn-0.9.0-py3-none-any.whl\n",
      "Collecting pandas>=0.15.2 (from seaborn)\n",
      "  Using cached https://files.pythonhosted.org/packages/19/74/e50234bc82c553fecdbd566d8650801e3fe2d6d8c8d940638e3d8a7c5522/pandas-0.24.2-cp36-cp36m-manylinux1_x86_64.whl\n",
      "Collecting numpy>=1.9.3 (from seaborn)\n",
      "  Using cached https://files.pythonhosted.org/packages/87/2d/e4656149cbadd3a8a0369fcd1a9c7d61cc7b87b3903b85389c70c989a696/numpy-1.16.4-cp36-cp36m-manylinux1_x86_64.whl\n",
      "Collecting matplotlib>=1.4.3 (from seaborn)\n",
      "  Using cached https://files.pythonhosted.org/packages/da/83/d989ee20c78117c737ab40e0318ea221f1aed4e3f5a40b4f93541b369b93/matplotlib-3.1.0-cp36-cp36m-manylinux1_x86_64.whl\n",
      "Collecting scipy>=0.14.0 (from seaborn)\n",
      "  Using cached https://files.pythonhosted.org/packages/72/4c/5f81e7264b0a7a8bd570810f48cd346ba36faedbd2ba255c873ad556de76/scipy-1.3.0-cp36-cp36m-manylinux1_x86_64.whl\n",
      "Collecting python-dateutil>=2.5.0 (from pandas>=0.15.2->seaborn)\n",
      "  Using cached https://files.pythonhosted.org/packages/41/17/c62faccbfbd163c7f57f3844689e3a78bae1f403648a6afb1d0866d87fbb/python_dateutil-2.8.0-py2.py3-none-any.whl\n",
      "Collecting pytz>=2011k (from pandas>=0.15.2->seaborn)\n",
      "  Using cached https://files.pythonhosted.org/packages/3d/73/fe30c2daaaa0713420d0382b16fbb761409f532c56bdcc514bf7b6262bb6/pytz-2019.1-py2.py3-none-any.whl\n",
      "Collecting kiwisolver>=1.0.1 (from matplotlib>=1.4.3->seaborn)\n",
      "  Using cached https://files.pythonhosted.org/packages/f8/a1/5742b56282449b1c0968197f63eae486eca2c35dcd334bab75ad524e0de1/kiwisolver-1.1.0-cp36-cp36m-manylinux1_x86_64.whl\n",
      "Collecting pyparsing!=2.0.4,!=2.1.2,!=2.1.6,>=2.0.1 (from matplotlib>=1.4.3->seaborn)\n",
      "  Using cached https://files.pythonhosted.org/packages/dd/d9/3ec19e966301a6e25769976999bd7bbe552016f0d32b577dc9d63d2e0c49/pyparsing-2.4.0-py2.py3-none-any.whl\n",
      "Collecting cycler>=0.10 (from matplotlib>=1.4.3->seaborn)\n",
      "  Using cached https://files.pythonhosted.org/packages/f7/d2/e07d3ebb2bd7af696440ce7e754c59dd546ffe1bbe732c8ab68b9c834e61/cycler-0.10.0-py2.py3-none-any.whl\n",
      "Collecting six>=1.5 (from python-dateutil>=2.5.0->pandas>=0.15.2->seaborn)\n",
      "  Using cached https://files.pythonhosted.org/packages/73/fb/00a976f728d0d1fecfe898238ce23f502a721c0ac0ecfedb80e0d88c64e9/six-1.12.0-py2.py3-none-any.whl\n",
      "Collecting setuptools (from kiwisolver>=1.0.1->matplotlib>=1.4.3->seaborn)\n",
      "  Using cached https://files.pythonhosted.org/packages/ec/51/f45cea425fd5cb0b0380f5b0f048ebc1da5b417e48d304838c02d6288a1e/setuptools-41.0.1-py2.py3-none-any.whl\n",
      "Installing collected packages: six, python-dateutil, numpy, pytz, pandas, setuptools, kiwisolver, pyparsing, cycler, matplotlib, scipy, seaborn\n",
      "Successfully installed cycler-0.10.0 kiwisolver-1.1.0 matplotlib-3.1.0 numpy-1.16.4 pandas-0.24.2 pyparsing-2.4.0 python-dateutil-2.8.0 pytz-2019.1 scipy-1.3.0 seaborn-0.9.0 setuptools-41.0.1 six-1.12.0\n"
     ]
    }
   ],
   "source": [
    "!pip3 install seaborn"
   ]
  },
  {
   "cell_type": "code",
   "execution_count": 2,
   "metadata": {},
   "outputs": [],
   "source": [
    "import pickle\n",
    "import seaborn as sns\n",
    "import matplotlib.pyplot as plt\n",
    "import pandas as pd\n",
    "import numpy as np\n",
    "import yaml\n",
    "sns.set()"
   ]
  },
  {
   "cell_type": "code",
   "execution_count": 3,
   "metadata": {},
   "outputs": [],
   "source": [
    "with open(\"../extract/go_dictionary\", \"rb\") as fp:\n",
    "    go_dictionary=pickle.load(fp)\n",
    "\n",
    "with open(\"../extract/proteins_goes\", \"rb\") as fp:\n",
    "    proteins_goes=pickle.load(fp)\n",
    "\n",
    "with open(\"../extract/proteins_seqs\", \"rb\") as fp:\n",
    "    proteins_seqs=pickle.load(fp)"
   ]
  },
  {
   "cell_type": "code",
   "execution_count": 4,
   "metadata": {},
   "outputs": [
    {
     "name": "stdout",
     "output_type": "stream",
     "text": [
      "Number of unique goes: 45006\n",
      "Number of examples: 560118\n",
      "\n",
      "First go:\n",
      "key: GO:0000001 | value: mitochondrion inheritance\n",
      "\n",
      "First sequence:\n",
      "MFKKVENKANFPKIEEKILKFWNDNKIFEKSMEQREGCEEFTFYDGPPFATGLPHFGHFVPNTIKDIIPRYQTMKGKYVKRNFGWDTHGLPVEYEVEKKLGISGKYEIENYGIENFNKECKKIVLRYTEEWKNIILRLGRWVDFEKGYKTMDISFMESVWWVFKNLYNKGLIYESYYVLPYSPKLATPLSNFEVNLGEYKEVNDPSLTIKFKIKDKNEYLLAWTTTPWTLPSNLGIAVGKEIEYSKIFDKKKEEILILGSKKINSYFDDENAYTIIEKFKGSQLQGIEYEPIFNYFLEQKDKGAFKVHTADYITTDDGTGIVHIAPFGEEDYRVLKKHTNVDIIDPLDAECKFTNRVKDFKGLFVKDADKKIIENLKLRNFLFKRENYLHRYPFCYRTNYPIIYRPISSWFVNVEKIKTQLLEVNEKINWMPAHLKKGRFGKWLENAKDWAISRNRFWGNPIPIWICSKTGKKICVGSRKELEELSGQKIEDLHKDKIDKITWPSKDGGTFIRTSEVLDCWFESGAMPYASNHYPFANESNFKNIFPADFIAEGLDQTRGWFYTLTILGTSLFENTAFKNVIVNGLVLSSDGRKMSKSFKNYTDPMEVINTFGADALRLYLIMSPVVKADDLKYSDNGVRDVLKNIIIPIWNAYSFFTTYAIIDKFKPTKNLSLVKSNNLDKWIISELESLKKILNKEIDKYNLTKSIESLLEFIDKLNNWYIRRSRRRFWKSENDKDKNDAYETLYYAIKTLMILLAPFIPFITEEIYQNLKTDEDKQSIHLNDYPKANENFIDKTIEEKINLARKITSMARSLRSLHNIKIRMPISTIYVVTKNQNEQNMLIEMQEIILDEINVKEMKIKSNEEELITYKAKANFKELGKKLGKDMKTVSIEISKLKNEDIIKIINGISHEIKVDNAKYYLSLNDIILERDEKDNLKVINEESITIGIDSLITQELYLEGLTREFVRQIQNLRKEKNFDVSDRINLYIENNATLEEILNKFEKYIKTETLALNIILNKSKLEKKINLDNDIFTIIGIEKC\n"
     ]
    }
   ],
   "source": [
    "print('Number of unique goes:', len(go_dictionary))\n",
    "print('Number of examples:', len(proteins_goes))\n",
    "key=list(go_dictionary.keys())[0]\n",
    "print('\\nFirst go:\\nkey: {} | value: {}'.format(key, go_dictionary[key]))\n",
    "print('\\nFirst sequence:\\n'+proteins_seqs[0])"
   ]
  },
  {
   "cell_type": "markdown",
   "metadata": {},
   "source": [
    "Let's start with parsing the amino acid sequences to answer the following questions:\n",
    "\n",
    "-How many unique amino acids there are in the database?\n",
    "\n",
    "-How many times each amino acid appear?\n",
    "\n",
    "-How long the amino acid sequences are?"
   ]
  },
  {
   "cell_type": "code",
   "execution_count": 5,
   "metadata": {},
   "outputs": [],
   "source": [
    "count_aminos={}\n",
    "length_seqs=[]\n",
    "for i, seq in enumerate(proteins_seqs):\n",
    "    length_seqs.append(len(seq))\n",
    "    for a in seq:\n",
    "        if a in count_aminos:\n",
    "            count_aminos[a] += 1\n",
    "        else:\n",
    "            count_aminos[a] = 0"
   ]
  },
  {
   "cell_type": "code",
   "execution_count": 6,
   "metadata": {},
   "outputs": [
    {
     "name": "stdout",
     "output_type": "stream",
     "text": [
      "Unique aminos (25):\n",
      "['M', 'F', 'K', 'V', 'E', 'N', 'A', 'P', 'I', 'L', 'W', 'D', 'S', 'Q', 'R', 'G', 'C', 'T', 'Y', 'H', 'U', 'X', 'B', 'Z', 'O']\n"
     ]
    },
    {
     "data": {
      "image/png": "[encoded data removed]",
      "text/plain": [
       "<Figure size 432x288 with 1 Axes>"
      ]
     },
     "metadata": {
      "needs_background": "light"
     },
     "output_type": "display_data"
    }
   ],
   "source": [
    "unique_aminos=list(count_aminos.keys())\n",
    "\n",
    "print('Unique aminos ({}):\\n{}'.format(len(unique_aminos), unique_aminos))\n",
    "x=[i for i in range(len(unique_aminos))]\n",
    "plt.bar(x, count_aminos.values())\n",
    "plt.xticks(x, unique_aminos)\n",
    "plt.show()"
   ]
  },
  {
   "cell_type": "markdown",
   "metadata": {},
   "source": [
    "There are 25 unique amino acids. The first 20 are the 20 known amino acids which appear from only 2.5 million times such as Tryptophan(W) and Cysteine(C) to around 20 million times such as Alanine(A) and Leucine(L).\n",
    "\n",
    "Interestingly, the last 5 amino acids: U, X, B, Z and O which appear "
   ]
  },
  {
   "cell_type": "code",
   "execution_count": 7,
   "metadata": {},
   "outputs": [
    {
     "name": "stdout",
     "output_type": "stream",
     "text": [
      "[327, 8273, 276, 248, 28]\n"
     ]
    }
   ],
   "source": [
    "print(list(count_aminos.values())[-5:])"
   ]
  },
  {
   "cell_type": "markdown",
   "metadata": {},
   "source": [
    "They describe respectively:\n",
    "\n",
    "U:\n",
    "\n",
    "X: any amino acid\n",
    "\n",
    "B: Asparagine/Aspartic Acid\n",
    "\n",
    "Z: Glutamine/Glutamic Acid\n",
    "\n",
    "O: "
   ]
  },
  {
   "cell_type": "markdown",
   "metadata": {},
   "source": [
    "As far as concerns the sequences"
   ]
  },
  {
   "cell_type": "code",
   "execution_count": 8,
   "metadata": {},
   "outputs": [
    {
     "name": "stdout",
     "output_type": "stream",
     "text": [
      "Average length: 359.37506918185096\n",
      "Deviation: 333.39939306284276\n",
      "Min length: 2\n",
      "Max length: 35213\n"
     ]
    }
   ],
   "source": [
    "print('Average length:', np.mean(length_seqs))\n",
    "print('Deviation:', np.std(length_seqs))\n",
    "print('Min length:', np.min(length_seqs))\n",
    "print('Max length:', np.max(length_seqs))"
   ]
  },
  {
   "cell_type": "code",
   "execution_count": 23,
   "metadata": {},
   "outputs": [
    {
     "name": "stdout",
     "output_type": "stream",
     "text": [
      "10 shortest:\n",
      "[2 2 3 3 3 3 3 4 4 4]\n",
      "10 longest:\n",
      "[10624 10746 11103 11872 13100 14507 18141 18562 34350 35213]\n",
      "Number sequences less than 30 AA: 5336\n",
      "Number sequences more than 500 AA: 107859\n",
      "Number sequences less than 1000 AA: 18144\n"
     ]
    }
   ],
   "source": [
    "sorted_seqs=np.array(length_seqs)\n",
    "sorted_seqs.sort()\n",
    "print('10 shortest:\\n{}\\n10 longest:\\n{}'.format(sorted_seqs[:10], sorted_seqs[-10:]))\n",
    "print('Number sequences less than 30 AA:', len(sorted_seqs[sorted_seqs<30]))\n",
    "print('Number sequences more than 500 AA:', len(sorted_seqs[sorted_seqs>500]))\n",
    "print('Number sequences less than 1000 AA:', len(sorted_seqs[sorted_seqs>1000]))"
   ]
  },
  {
   "cell_type": "markdown",
   "metadata": {},
   "source": [
    "# GOs analysis"
   ]
  },
  {
   "cell_type": "markdown",
   "metadata": {},
   "source": [
    "There are 45006 possible labels for each example which is a huge classification problem. However, some Go could not be used by the sequences, so it can be removed. At the same time, some sequence could have some Go that it is not in the GO dictionary meaning that its function is not available from the data that I have"
   ]
  },
  {
   "cell_type": "code",
   "execution_count": 14,
   "metadata": {},
   "outputs": [
    {
     "name": "stdout",
     "output_type": "stream",
     "text": [
      "Number of Gos used by the sequences: 28182\n",
      "Minimum times go occurs: 1\n",
      "Maximum times go occurs: 150422\n",
      "Average: 104.89177489177489\n"
     ]
    }
   ],
   "source": [
    "goes_counter={}\n",
    "\n",
    "for seq_goes in proteins_goes:\n",
    "    for go in seq_goes:\n",
    "        if go in goes_counter:\n",
    "            goes_counter[go] +=1\n",
    "        else:\n",
    "            goes_counter[go] = 1\n",
    "            \n",
    "mylist=list(goes_counter.values())\n",
    "print('Number of Gos used by the sequences:', len(mylist))\n",
    "print('Minimum times go occurs:', np.min(mylist))\n",
    "print('Maximum times go occurs:', np.max(mylist))\n",
    "print('Average:', np.mean(mylist))"
   ]
  },
  {
   "cell_type": "markdown",
   "metadata": {},
   "source": [
    "From this first quick analysis, we can see that the not all the 45006 GOs notations are used. More precisely, only 28182 GOs are used which in average they occur in 104 different sequences. \n",
    "\n",
    "Let's see how many of these Gos are available in the Go dictionary"
   ]
  },
  {
   "cell_type": "code",
   "execution_count": 31,
   "metadata": {},
   "outputs": [
    {
     "name": "stdout",
     "output_type": "stream",
     "text": [
      "Available in the GO onology dictionary: 28128\n",
      "NOT available in the GO onology dictionary: 54\n"
     ]
    }
   ],
   "source": [
    "go_dict_counter=0\n",
    "outliners=0\n",
    "for go_name in goes_counter:\n",
    "    if go_name in go_dictionary:\n",
    "        go_dict_counter +=1\n",
    "    else:\n",
    "        outliners +=1\n",
    "\n",
    "print('Available in the GO onology dictionary:', go_dict_counter)\n",
    "print('NOT available in the GO onology dictionary:', outliners)"
   ]
  },
  {
   "cell_type": "markdown",
   "metadata": {},
   "source": [
    "Not all the GOs used to describe the amino acid sequence's function are defined in the GO ontology dictionary. "
   ]
  },
  {
   "cell_type": "code",
   "execution_count": 33,
   "metadata": {},
   "outputs": [
    {
     "name": "stdout",
     "output_type": "stream",
     "text": [
      "[113, 113, 113, 113, 113, 114, 114, 114, 114, 114, 114, 114, 114, 114, 114, 114, 114, 114, 114, 114, 114, 114, 114, 114, 114, 114, 114, 114, 114, 114, 114, 115, 115, 115, 115, 115, 115, 115, 115, 115, 115, 115, 115, 115, 115, 115, 115, 115, 116, 116, 116, 116, 116, 116, 116, 116, 116, 116, 116, 116, 116, 116, 116, 116, 116, 116, 116, 117, 117, 117, 117, 117, 117, 117, 117, 117, 117, 117, 117, 117, 117, 117, 117, 117, 117, 117, 117, 118, 118, 118, 118, 118, 118, 118, 118, 118, 118, 118, 118, 118, 118, 118, 118, 118, 118, 118, 118, 118, 119, 119, 119, 119, 119, 119, 119, 119, 119, 119, 119, 119, 119, 119, 119, 119, 119, 119, 119, 119, 119, 119, 119, 119, 119, 119, 119, 120, 120, 120, 120, 120, 120, 120, 120, 120, 120, 120, 120, 120, 120, 121, 121, 121, 121, 121, 121, 121, 121, 121, 121, 121, 121, 121, 121, 121, 121, 121, 121, 121, 121, 122, 122, 122, 122, 122, 122, 122, 122, 122, 122, 122, 122, 122, 122, 122, 122, 122, 122, 122, 122, 122, 122, 122, 123, 123, 123, 123, 123, 123, 123, 123, 123, 123, 123, 124, 124, 124, 124, 124, 124, 124, 124, 124, 124, 124, 124, 124, 124, 124, 124, 124, 124, 124, 124, 124, 124, 124, 124, 125, 125, 125, 125, 125, 125, 125, 125, 126, 126, 126, 126, 126, 126, 126, 126, 126, 126, 126, 126, 126, 127, 127, 127, 127, 127, 127, 127, 127, 127, 127, 127, 128, 128, 128, 128, 128, 128, 128, 128, 128, 128, 128, 128, 128, 128, 128, 128, 128, 129, 129, 129, 129, 129, 129, 129, 129, 129, 129, 129, 129, 129, 129, 130, 130, 130, 130, 130, 130, 130, 130, 130, 130, 130, 130, 130, 130, 130, 130, 130, 130, 131, 131, 131, 131, 131, 131, 131, 131, 131, 131, 131, 131, 131, 131, 131, 132, 132, 132, 132, 132, 132, 132, 132, 132, 132, 132, 133, 133, 133, 133, 133, 133, 133, 133, 133, 133, 133, 133, 133, 133, 133, 133, 133, 133, 134, 134, 134, 134, 134, 134, 134, 134, 134, 134, 134, 134, 134, 134, 134, 135, 135, 135, 135, 135, 135, 135, 135, 135, 135, 135, 136, 136, 136, 136, 136, 136, 136, 136, 136, 136, 136, 136, 136, 136, 136, 136, 136, 136, 136, 137, 137, 137, 137, 137, 137, 137, 137, 137, 137, 137, 137, 137, 138, 138, 138, 138, 138, 138, 138, 138, 138, 138, 138, 138, 138, 138, 138, 138, 138, 139, 139, 139, 139, 139, 139, 139, 139, 139, 139, 139, 139, 139, 140, 140, 140, 140, 140, 140, 140, 140, 140, 140, 141, 141, 141, 141, 141, 141, 141, 141, 141, 141, 142, 142, 142, 142, 142, 142, 142, 142, 142, 142, 142, 143, 143, 143, 143, 143, 143, 143, 143, 143, 144, 144, 144, 144, 144, 144, 144, 144, 144, 144, 144, 144, 144, 144, 145, 145, 145, 145, 145, 145, 145, 145, 145, 145, 145, 145, 145, 145, 145, 145, 145, 145, 145, 145, 145, 145, 145, 146, 146, 146, 146, 146, 146, 146, 146, 146, 146, 146, 146, 146, 146, 147, 147, 147, 147, 147, 147, 147, 147, 147, 147, 147, 147, 148, 148, 148, 148, 148, 148, 148, 148, 148, 148, 149, 149, 149, 149, 149, 149, 149, 149, 149, 149, 149, 149, 149, 149, 149, 150, 150, 150, 150, 150, 150, 150, 150, 150, 150, 151, 151, 151, 151, 151, 151, 151, 151, 151, 151, 152, 152, 152, 152, 152, 152, 152, 152, 152, 152, 152, 152, 152, 152, 152, 152, 152, 152, 152, 152, 152, 153, 153, 153, 153, 153, 153, 153, 153, 154, 154, 154, 154, 154, 154, 154, 155, 155, 155, 155, 155, 155, 155, 155, 156, 156, 156, 156, 156, 156, 156, 156, 156, 156, 156, 156, 157, 157, 157, 157, 157, 157, 157, 157, 157, 158, 158, 158, 158, 158, 158, 159, 159, 159, 159, 159, 159, 159, 159, 159, 159, 159, 159, 159, 159, 159, 160, 160, 160, 160, 160, 160, 160, 160, 160, 160, 160, 160, 160, 160, 161, 161, 161, 161, 161, 161, 161, 161, 161, 161, 161, 161, 161, 162, 162, 162, 162, 162, 162, 162, 162, 162, 162, 162, 162, 162, 162, 162, 162, 162, 162, 163, 163, 163, 163, 163, 163, 163, 163, 163, 164, 164, 164, 164, 164, 164, 164, 165, 165, 165, 165, 165, 165, 165, 166, 166, 166, 166, 166, 166, 166, 166, 166, 166, 166, 166, 166, 166, 167, 167, 167, 167, 167, 167, 167, 167, 167, 167, 167, 167, 167, 167, 168, 168, 168, 168, 168, 168, 168, 168, 168, 168, 168, 169, 169, 169, 169, 169, 169, 169, 169, 169, 169, 170, 170, 170, 170, 170, 170, 170, 170, 170, 170, 170, 170, 170, 170, 170, 171, 171, 171, 171, 171, 171, 171, 171, 171, 171, 171, 171, 171, 171, 171, 172, 172, 172, 172, 172, 172, 172, 172, 173, 173, 173, 173, 173, 173, 173, 173, 173, 173, 174, 174, 174, 174, 174, 174, 174, 174, 174, 174, 174, 174, 174, 175, 175, 175, 175, 175, 175, 175, 175, 175, 175, 175, 175, 175, 176, 176, 176, 176, 176, 176, 177, 177, 177, 177, 177, 177, 177, 178, 178, 178, 178, 178, 178, 178, 178, 179, 179, 179, 179, 179, 179, 179, 179, 179, 180, 180, 180, 180, 180, 180, 180, 180, 181, 181, 181, 181, 181, 181, 181, 182, 182, 182, 182, 182, 182, 182, 182, 182, 182, 182, 182, 182, 183, 183, 183, 183, 183, 183, 183, 183, 183, 183, 183, 184, 184, 184, 184, 184, 184, 184, 184, 184, 184, 184, 184, 184, 185, 185, 185, 185, 185, 186, 186, 186, 186, 186, 186, 186, 186, 186, 186, 186, 186, 187, 187, 187, 188, 188, 188, 188, 188, 188, 188, 188, 189, 189, 189, 189, 189, 189, 189, 190, 190, 190, 190, 190, 190, 190, 191, 191, 191, 191, 191, 191, 191, 191, 191, 191, 191, 192, 192, 192, 192, 192, 192, 192, 192, 192, 192, 193, 193, 193, 193, 193, 193, 194, 194, 194, 194, 194, 194, 195, 195, 195, 195, 195, 195, 195, 195, 195, 195, 195, 195, 195, 196, 196, 196, 196, 196, 196, 196, 196, 196, 196, 197, 197, 197, 197, 197, 197, 197, 197, 198, 198, 198, 198, 198, 198, 198, 198, 198, 198, 198, 198, 198, 199, 199, 199, 199, 199, 199, 199, 199, 200, 200, 200, 200, 200, 200, 200, 200, 201, 201, 201, 201, 201, 201, 201, 202, 202, 202, 202, 202, 203, 203, 203, 203, 203, 203, 203, 203, 203, 203, 204, 204, 204, 204, 204, 204, 204, 204, 204, 205, 205, 205, 205, 205, 206, 206, 206, 206, 206, 207, 207, 207, 207, 207, 208, 208, 208, 208, 208, 209, 209, 209, 209, 209, 209, 209, 209, 209, 209, 209, 210, 210, 210, 210, 210, 210, 211, 211, 211, 211, 211, 212, 212, 212, 212, 212, 212, 212, 212, 213, 213, 213, 213, 213, 213, 214, 214, 214, 214, 215, 215, 215, 215, 215, 215, 216, 216, 216, 216, 216, 217, 217, 217, 217, 217, 217, 217, 217, 217, 217, 217, 217, 218, 218, 218, 218, 218, 218, 218, 218, 218, 218, 218, 219, 219, 219, 219, 219, 220, 220, 220, 220, 220, 220, 220, 220, 221, 221, 221, 221, 221, 221, 221, 221, 221, 221, 222, 222, 222, 222, 222, 223, 223, 223, 223, 223, 224, 224, 224, 224, 224, 224, 225, 225, 225, 225, 225, 225, 225, 225, 225, 225, 226, 226, 226, 226, 226, 226, 226, 226, 226, 227, 227, 227, 227, 227, 228, 228, 228, 228, 228, 228, 228, 228, 228, 228, 228, 229, 229, 229, 229, 229, 230, 230, 230, 230, 230, 231, 231, 231, 231, 231, 231, 232, 232, 232, 232, 232, 232, 233, 233, 233, 233, 233, 233, 233, 233, 233, 233, 233, 233, 233, 234, 234, 234, 234, 234, 234, 234, 235, 235, 235, 235, 235, 236, 236, 236, 236, 236, 236, 236, 236, 236, 236, 237, 237, 237, 237, 237, 237, 237, 237, 237, 237, 238, 238, 238, 238, 239, 239, 239, 239, 239, 239, 240, 240, 240, 240, 241, 241, 241, 241, 241, 241, 242, 242, 242, 242, 243, 243, 243, 243, 243, 244, 244, 245, 245, 245, 246, 246, 246, 246, 246, 246, 246, 247, 247, 247, 247, 247, 247, 247, 248, 248, 248, 248, 248, 248, 249, 249, 249, 250, 250, 250, 250, 250, 250, 251, 251, 251, 251, 251, 252, 252, 252, 252, 252, 252, 253, 253, 253, 253, 253, 253, 254, 254, 254, 254, 254, 254, 254, 255, 255, 255, 255, 255, 255, 255, 255, 256, 256, 256, 256, 256, 256, 256, 258, 258, 258, 258, 258, 258, 258, 259, 259, 259, 259, 259, 259, 259, 260, 260, 260, 261, 261, 261, 261, 262, 262, 262, 262, 262, 263, 263, 263, 263, 263, 263, 263, 263, 264, 264, 264, 265, 265, 265, 265, 266, 266, 266, 267, 267, 267, 268, 268, 268, 268, 268, 268, 268, 268, 268, 269, 269, 269, 269, 269, 270, 270, 270, 270, 270, 270, 270, 271, 271, 272, 273, 273, 273, 273, 274, 274, 274, 274, 274, 274, 274, 274, 275, 275, 275, 276, 276, 276, 276, 277, 277, 277, 277, 277, 277, 277, 278, 278, 279, 279, 279, 279, 280, 281, 281, 281, 282, 282, 282, 283, 283, 283, 283, 284, 284, 284, 284, 284, 285, 285, 285, 285, 285, 286, 286, 287, 287, 287, 287, 287, 287, 287, 287, 288, 288, 289, 289, 289, 289, 289, 289, 290, 290, 290, 290, 290, 291, 291, 291, 291, 292, 292, 292, 292, 292, 292, 293, 293, 293, 294, 294, 294, 294, 294, 294, 294, 294, 294, 295, 295, 295, 295, 296, 296, 296, 296, 296, 297, 297, 298, 298, 298, 298, 298, 299, 299, 299, 300, 300, 300, 300, 300, 300, 301, 301, 301, 302, 302, 302, 302, 302, 303, 303, 303, 303, 303, 303, 303, 304, 304, 304, 304, 304, 304, 304, 305, 305, 306, 306, 306, 306, 306, 306, 306, 307, 307, 307, 308, 308, 309, 309, 309, 309, 309, 309, 310, 310, 310, 310, 310, 311, 311, 311, 312, 312, 312, 312, 313, 313, 313, 313, 314, 314, 315, 315, 315, 315, 315, 316, 316, 317, 317, 318, 318, 318, 319, 320, 320, 321, 322, 322, 322, 323, 323, 324, 324, 324, 324, 325, 325, 325, 325, 325, 326, 326, 326, 326, 327, 327, 327, 328, 329, 329, 329, 329, 329, 330, 330, 330, 330, 330, 330, 330, 331, 331, 331, 331, 332, 332, 332, 332, 333, 333, 333, 334, 334, 334, 334, 334, 334, 335, 335, 335, 335, 336, 336, 336, 336, 337, 337, 337, 337, 338, 338, 338, 338, 339, 339, 339, 340, 340, 340, 340, 341, 341, 341, 341, 341, 341, 342, 342, 342, 342, 342, 342, 342, 342, 343, 344, 344, 344, 344, 345, 345, 345, 345, 345, 346, 346, 346, 346, 347, 347, 347, 347, 348, 348, 349, 349, 350, 350, 350, 350, 352, 352, 353, 353, 354, 354, 354, 354, 354, 354, 355, 356, 356, 357, 358, 358, 358, 359, 360, 360, 360, 360, 361, 361, 361, 361, 362, 362, 362, 363, 363, 364, 364, 366, 366, 366, 366, 367, 367, 367, 367, 368, 368, 370, 370, 372, 372, 372, 373, 373, 373, 373, 373, 374, 374, 374, 375, 375, 375, 375, 376, 376, 376, 377, 377, 377, 378, 378, 378, 379, 379, 380, 380, 381, 381, 381, 382, 382, 383, 383, 384, 385, 386, 387, 387, 387, 387, 388, 389, 389, 389, 390, 390, 390, 390, 391, 392, 392, 392, 393, 393, 393, 394, 394, 395, 395, 395, 396, 396, 396, 397, 397, 397, 398, 399, 400, 400, 400, 401, 402, 402, 402, 403, 403, 404, 406, 407, 407, 407, 408, 409, 410, 412, 412, 413, 414, 414, 414, 415, 416, 416, 416, 416, 417, 417, 417, 418, 418, 418, 419, 419, 419, 419, 420, 420, 421, 421, 422, 422, 422, 423, 423, 423, 423, 424, 425, 425, 426, 426, 426, 427, 427, 430, 430, 431, 432, 432, 433, 433, 434, 434, 436, 437, 437, 437, 437, 439, 440, 440, 441, 441, 442, 442, 442, 442, 442, 442, 443, 443, 443, 444, 444, 444, 444, 444, 445, 446, 446, 447, 448, 448, 448, 448, 448, 449, 449, 449, 451, 452, 452, 452, 454, 454, 454, 455, 457, 458, 458, 460, 460, 460, 461, 461, 461, 461, 461, 462, 463, 463, 463, 464, 464, 465, 465, 465, 465, 466, 466, 467, 468, 468, 468, 469, 469, 471, 471, 471, 471, 472, 472, 472, 473, 473, 473, 473, 473, 473, 473, 474, 475, 475, 475, 477, 477, 477, 478, 478, 479, 480, 480, 481, 482, 482, 483, 484, 485, 485, 485, 485, 486, 487, 488, 489, 489, 489, 491, 491, 491, 492, 492, 493, 494, 494, 494, 496, 496, 497, 497, 497, 499, 499, 499, 500, 500, 500, 500, 500, 501, 501, 502, 502, 502, 503, 503, 504, 506, 506, 506, 507, 507, 509, 510, 510, 512, 512, 512, 514, 515, 517, 520, 521, 521, 521, 522, 522, 522, 523, 524, 524, 525, 525, 526, 526, 526, 528, 529, 529, 530, 531, 531, 531, 533, 533, 534, 534, 534, 535, 535, 538, 538, 538, 539, 539, 541, 541, 541, 542, 542, 543, 543, 543, 544, 544, 545, 548, 548, 549, 549, 550, 550, 550, 550, 551, 551, 551, 552, 552, 553, 554, 554, 555, 555, 557, 558, 558, 558, 559, 559, 561, 562, 562, 563, 566, 566, 566, 566, 567, 568, 568, 568, 569, 569, 570, 571, 574, 575, 575, 575, 576, 577, 577, 578, 578, 581, 581, 582, 582, 582, 583, 584, 585, 586, 586, 587, 588, 588, 590, 591, 591, 592, 594, 594, 595, 595, 596, 598, 598, 599, 600, 600, 600, 602, 603, 604, 607, 607, 608, 608, 609, 609, 609, 610, 613, 614, 615, 615, 615, 616, 616, 616, 617, 617, 617, 617, 618, 619, 620, 621, 621, 622, 623, 623, 624, 625, 626, 627, 630, 630, 630, 632, 632, 632, 633, 634, 635, 635, 636, 637, 638, 639, 639, 639, 640, 641, 641, 642, 642, 642, 644, 644, 645, 645, 646, 649, 649, 649, 650, 650, 651, 651, 652, 653, 653, 654, 654, 655, 658, 660, 662, 663, 664, 664, 665, 667, 668, 670, 671, 671, 673, 675, 675, 675, 676, 676, 679, 680, 682, 682, 686, 688, 688, 688, 689, 691, 693, 693, 694, 696, 697, 697, 698, 700, 701, 701, 702, 703, 703, 704, 705, 708, 709, 709, 711, 711, 713, 714, 715, 716, 716, 716, 718, 718, 720, 720, 722, 723, 723, 723, 724, 724, 725, 729, 729, 730, 731, 732, 733, 736, 737, 737, 738, 738, 739, 739, 739, 740, 740, 740, 741, 741, 742, 743, 744, 745, 747, 750, 752, 752, 753, 753, 755, 757, 757, 757, 758, 760, 762, 764, 764, 764, 765, 767, 768, 772, 772, 773, 774, 774, 775, 775, 775, 775, 779, 781, 782, 782, 782, 783, 783, 784, 786, 786, 787, 789, 790, 791, 791, 791, 792, 794, 794, 800, 800, 800, 801, 801, 806, 808, 810, 810, 815, 816, 817, 818, 819, 820, 821, 821, 822, 823, 823, 826, 826, 826, 826, 827, 828, 829, 832, 833, 835, 835, 836, 836, 837, 838, 839, 839, 840, 841, 842, 843, 843, 844, 849, 849, 849, 850, 850, 853, 853, 857, 857, 858, 860, 861, 864, 864, 865, 865, 865, 874, 874, 875, 876, 883, 886, 887, 889, 889, 890, 890, 890, 897, 897, 898, 899, 900, 901, 904, 905, 905, 906, 907, 909, 910, 912, 915, 916, 920, 921, 925, 925, 926, 928, 934, 935, 947, 952, 954, 958, 962, 963, 965, 966, 971, 973, 977, 979, 982, 986, 986, 988, 994, 997, 997, 997, 1000, 1002, 1006, 1006, 1008, 1009, 1010, 1012, 1015, 1020, 1022, 1023, 1023, 1027, 1028, 1031, 1032, 1032, 1032, 1036, 1036, 1037, 1038, 1039, 1040, 1041, 1044, 1047, 1050, 1050, 1052, 1052, 1058, 1066, 1068, 1069, 1069, 1069, 1072, 1074, 1081, 1082, 1085, 1085, 1086, 1086, 1091, 1094, 1094, 1100, 1101, 1107, 1111, 1118, 1123, 1124, 1131, 1132, 1134, 1139, 1140, 1142, 1143, 1147, 1149, 1153, 1165, 1165, 1166, 1172, 1179, 1188, 1195, 1195, 1196, 1197, 1206, 1208, 1217, 1219, 1225, 1233, 1239, 1241, 1242, 1243, 1246, 1251, 1253, 1255, 1259, 1261, 1265, 1266, 1266, 1267, 1273, 1276, 1276, 1276, 1280, 1280, 1282, 1284, 1284, 1285, 1285, 1286, 1287, 1293, 1294, 1294, 1304, 1309, 1311, 1315, 1315, 1329, 1335, 1335, 1361, 1366, 1366, 1367, 1369, 1371, 1372, 1375, 1380, 1384, 1413, 1418, 1429, 1436, 1437, 1443, 1445, 1449, 1450, 1450, 1451, 1458, 1458, 1459, 1464, 1488, 1489, 1489, 1497, 1499, 1501, 1504, 1509, 1518, 1522, 1526, 1529, 1540, 1540, 1558, 1563, 1567, 1574, 1574, 1577, 1580, 1584, 1593, 1595, 1602, 1604, 1607, 1618, 1647, 1658, 1667, 1687, 1711, 1727, 1729, 1738, 1741, 1748, 1751, 1754, 1755, 1773, 1778, 1799, 1802, 1804, 1804, 1805, 1807, 1847, 1854, 1856, 1857, 1863, 1865, 1868, 1872, 1880, 1890, 1891, 1904, 1926, 1926, 1930, 1934, 1941, 1944, 1951, 1952, 1955, 1967, 1975, 1984, 1989, 1990, 1999, 2002, 2018, 2022, 2039, 2053, 2072, 2083, 2085, 2120, 2122, 2130, 2138, 2142, 2147, 2150, 2171, 2172, 2173, 2186, 2187, 2193, 2195, 2214, 2220, 2228, 2251, 2308, 2327, 2339, 2347, 2351, 2372, 2385, 2406, 2421, 2471, 2512, 2517, 2528, 2561, 2561, 2569, 2604, 2609, 2674, 2680, 2770, 2772, 2774, 2805, 2818, 2832, 2848, 2896, 2938, 3010, 3040, 3086, 3108, 3116, 3120, 3202, 3278, 3294, 3301, 3325, 3331, 3381, 3427, 3432, 3479, 3481, 3520, 3534, 3538, 3592, 3593, 3649, 3663, 3677, 3750, 4197, 4211, 4222, 4239, 4241, 4283, 4326, 4407, 4469, 4633, 4635, 4694, 4785, 4881, 4899, 4938, 4941, 5059, 5064, 5077, 5086, 5144, 5210, 5213, 5512, 5603, 5748, 5811, 5856, 5952, 5967, 6098, 6141, 6155, 6165, 6215, 6518, 6638, 6719, 6860, 7026, 7030, 7271, 7466, 7568, 7596, 7606, 7938, 8248, 8629, 9007, 9041, 9045, 9102, 9641, 9879, 10001, 10754, 11885, 14510, 14547, 18002, 22163, 25079, 25270, 25460, 30424, 31852, 33527, 36574, 48781, 51452, 55517, 58673, 65652, 88022, 150422]\n"
     ]
    }
   ],
   "source": [
    "print(sorted(mylist)[-3000:])"
   ]
  },
  {
   "cell_type": "code",
   "execution_count": 37,
   "metadata": {},
   "outputs": [
    {
     "name": "stdout",
     "output_type": "stream",
     "text": [
      "Number of labels: 3344\n"
     ]
    }
   ],
   "source": [
    "goes_list=[]\n",
    "\n",
    "threshold=100\n",
    "for seq_goes in proteins_goes:\n",
    "    for go in seq_goes:\n",
    "        if ((goes_counter[go]>=threshold) and (go not in goes_list)):\n",
    "            goes_list.append(go)\n",
    "\n",
    "print('Number of labels:', len(goes_list))"
   ]
  },
  {
   "cell_type": "code",
   "execution_count": 38,
   "metadata": {},
   "outputs": [
    {
     "name": "stdout",
     "output_type": "stream",
     "text": [
      "['GO:0005737', 'GO:0002161', 'GO:0005524', 'GO:0004822', 'GO:0000049', 'GO:0008270', 'GO:0006428', 'GO:0004821', 'GO:0006427', 'GO:0005886']\n"
     ]
    }
   ],
   "source": [
    "print(goes_list[:10])"
   ]
  },
  {
   "cell_type": "markdown",
   "metadata": {},
   "source": [
    "# Conclusion"
   ]
  },
  {
   "cell_type": "markdown",
   "metadata": {},
   "source": [
    "Now, that I got an idea of the data available, I have to decide which criteria the examples must meet in order to be used.\n",
    "\n",
    "There are 560118 sequences with a length ranging from 2 to 35k amino acids. Around 5k proteins are below 30 amino acids which is common to be the minimum length required to define an amino acid sequence as protein. Other 18k proteins have a length larger than 1000 amino acids.\n",
    "\n",
    "The GOs used in the examples are only 28182 compared to the 45006 from the GO ontology dictionary. Moreover, the function of 54 of these GOs is not available in the GO ontology dictionary. The GOs appear from 1 to 150k times in the dataset. \n",
    "\n",
    "QUESTIONS:\n",
    "\n",
    "Which is the minimum and maximum amino acid length threshold.\n",
    "Should I use alle the 25 amino acids?\n",
    "Should I use all the 28128 GOs or define a threshold of appearences?\n"
   ]
  },
  {
   "cell_type": "code",
   "execution_count": 39,
   "metadata": {},
   "outputs": [],
   "source": [
    "data={}\n",
    "data['unique_aminos']=unique_aminos\n",
    "data['min_length_aminos']=0\n",
    "data['max_length_aminos']=512\n",
    "data['available_goes']=goes_list\n",
    "\n",
    "with open('../hyperparams.yaml', 'w') as outfile:\n",
    "    yaml.dump(data, outfile)"
   ]
  },
  {
   "cell_type": "code",
   "execution_count": null,
   "metadata": {},
   "outputs": [],
   "source": []
  }
 ],
 "metadata": {
  "kernelspec": {
   "display_name": "Python 3",
   "language": "python",
   "name": "python3"
  },
  "language_info": {
   "codemirror_mode": {
    "name": "ipython",
    "version": 3
   },
   "file_extension": ".py",
   "mimetype": "text/x-python",
   "name": "python",
   "nbconvert_exporter": "python",
   "pygments_lexer": "ipython3",
   "version": "3.6.8"
  }
 },
 "nbformat": 4,
 "nbformat_minor": 2
}
