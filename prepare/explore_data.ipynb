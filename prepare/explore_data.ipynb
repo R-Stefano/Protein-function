{
 "cells": [
  {
   "cell_type": "markdown",
   "metadata": {},
   "source": [
    "# Proteins functions prediction project"
   ]
  },
  {
   "cell_type": "markdown",
   "metadata": {},
   "source": [
    "This scripts explore the Uniprot and GO ontology datasets. It is used for the proteins function prediction project. The output of the script is a yaml file containing the criterias to use to filter out the examples from the dataset and to filter out the GO terms.\n",
    "\n",
    "The yaml file contains information about the amino acids sequences length, the GO terms to use as labels and the mapping of GO sub-terms to GO labels. "
   ]
  },
  {
   "cell_type": "code",
   "execution_count": 1,
   "metadata": {},
   "outputs": [
    {
     "name": "stdout",
     "output_type": "stream",
     "text": [
      "Collecting seaborn\n",
      "  Using cached https://files.pythonhosted.org/packages/a8/76/220ba4420459d9c4c9c9587c6ce607bf56c25b3d3d2de62056efe482dadc/seaborn-0.9.0-py3-none-any.whl\n",
      "Collecting scipy>=0.14.0 (from seaborn)\n",
      "  Using cached https://files.pythonhosted.org/packages/72/4c/5f81e7264b0a7a8bd570810f48cd346ba36faedbd2ba255c873ad556de76/scipy-1.3.0-cp36-cp36m-manylinux1_x86_64.whl\n",
      "Collecting matplotlib>=1.4.3 (from seaborn)\n",
      "  Using cached https://files.pythonhosted.org/packages/57/4f/dd381ecf6c6ab9bcdaa8ea912e866dedc6e696756156d8ecc087e20817e2/matplotlib-3.1.1-cp36-cp36m-manylinux1_x86_64.whl\n",
      "Collecting numpy>=1.9.3 (from seaborn)\n",
      "  Using cached https://files.pythonhosted.org/packages/87/2d/e4656149cbadd3a8a0369fcd1a9c7d61cc7b87b3903b85389c70c989a696/numpy-1.16.4-cp36-cp36m-manylinux1_x86_64.whl\n",
      "Collecting pandas>=0.15.2 (from seaborn)\n",
      "  Using cached https://files.pythonhosted.org/packages/19/74/e50234bc82c553fecdbd566d8650801e3fe2d6d8c8d940638e3d8a7c5522/pandas-0.24.2-cp36-cp36m-manylinux1_x86_64.whl\n",
      "Collecting cycler>=0.10 (from matplotlib>=1.4.3->seaborn)\n",
      "  Using cached https://files.pythonhosted.org/packages/f7/d2/e07d3ebb2bd7af696440ce7e754c59dd546ffe1bbe732c8ab68b9c834e61/cycler-0.10.0-py2.py3-none-any.whl\n",
      "Collecting python-dateutil>=2.1 (from matplotlib>=1.4.3->seaborn)\n",
      "  Using cached https://files.pythonhosted.org/packages/41/17/c62faccbfbd163c7f57f3844689e3a78bae1f403648a6afb1d0866d87fbb/python_dateutil-2.8.0-py2.py3-none-any.whl\n",
      "Collecting kiwisolver>=1.0.1 (from matplotlib>=1.4.3->seaborn)\n",
      "  Using cached https://files.pythonhosted.org/packages/f8/a1/5742b56282449b1c0968197f63eae486eca2c35dcd334bab75ad524e0de1/kiwisolver-1.1.0-cp36-cp36m-manylinux1_x86_64.whl\n",
      "Collecting pyparsing!=2.0.4,!=2.1.2,!=2.1.6,>=2.0.1 (from matplotlib>=1.4.3->seaborn)\n",
      "  Using cached https://files.pythonhosted.org/packages/dd/d9/3ec19e966301a6e25769976999bd7bbe552016f0d32b577dc9d63d2e0c49/pyparsing-2.4.0-py2.py3-none-any.whl\n",
      "Collecting pytz>=2011k (from pandas>=0.15.2->seaborn)\n",
      "  Using cached https://files.pythonhosted.org/packages/3d/73/fe30c2daaaa0713420d0382b16fbb761409f532c56bdcc514bf7b6262bb6/pytz-2019.1-py2.py3-none-any.whl\n",
      "Collecting six (from cycler>=0.10->matplotlib>=1.4.3->seaborn)\n",
      "  Using cached https://files.pythonhosted.org/packages/73/fb/00a976f728d0d1fecfe898238ce23f502a721c0ac0ecfedb80e0d88c64e9/six-1.12.0-py2.py3-none-any.whl\n",
      "Collecting setuptools (from kiwisolver>=1.0.1->matplotlib>=1.4.3->seaborn)\n",
      "  Using cached https://files.pythonhosted.org/packages/ec/51/f45cea425fd5cb0b0380f5b0f048ebc1da5b417e48d304838c02d6288a1e/setuptools-41.0.1-py2.py3-none-any.whl\n",
      "Installing collected packages: numpy, scipy, six, cycler, python-dateutil, setuptools, kiwisolver, pyparsing, matplotlib, pytz, pandas, seaborn\n",
      "Successfully installed cycler-0.10.0 kiwisolver-1.1.0 matplotlib-3.1.1 numpy-1.16.4 pandas-0.24.2 pyparsing-2.4.0 python-dateutil-2.8.0 pytz-2019.1 scipy-1.3.0 seaborn-0.9.0 setuptools-41.0.1 six-1.12.0\n"
     ]
    }
   ],
   "source": [
    "!pip3 install seaborn"
   ]
  },
  {
   "cell_type": "code",
   "execution_count": 2,
   "metadata": {},
   "outputs": [],
   "source": [
    "import pickle\n",
    "import seaborn as sns\n",
    "import matplotlib.pyplot as plt\n",
    "import pandas as pd\n",
    "import numpy as np\n",
    "import yaml\n",
    "sns.set()"
   ]
  },
  {
   "cell_type": "markdown",
   "metadata": {},
   "source": [
    "# Amino acids sequences analysis"
   ]
  },
  {
   "cell_type": "code",
   "execution_count": 3,
   "metadata": {},
   "outputs": [],
   "source": [
    "with open(\"../extract/proteins_goes\", \"rb\") as fp:\n",
    "    proteins_goes=pickle.load(fp)\n",
    "\n",
    "with open(\"../extract/proteins_seqs\", \"rb\") as fp:\n",
    "    proteins_seqs=pickle.load(fp)"
   ]
  },
  {
   "cell_type": "code",
   "execution_count": 27,
   "metadata": {},
   "outputs": [
    {
     "name": "stdout",
     "output_type": "stream",
     "text": [
      "Number of examples: 560118\n",
      "\n",
      "First sequence:\n",
      "MFKKVENKANFPKIEEKILKFWNDNKIFEKSMEQREGCEEFTFYDGPPFATGLPHFGHFVPNTIKDIIPRYQTMKGKYVKRNFGWDTHGLPVEYEVEKKLGISGKYEIENYGIENFNKECKKIVLRYTEEWKNIILRLGRWVDFEKGYKTMDISFMESVWWVFKNLYNKGLIYESYYVLPYSPKLATPLSNFEVNLGEYKEVNDPSLTIKFKIKDKNEYLLAWTTTPWTLPSNLGIAVGKEIEYSKIFDKKKEEILILGSKKINSYFDDENAYTIIEKFKGSQLQGIEYEPIFNYFLEQKDKGAFKVHTADYITTDDGTGIVHIAPFGEEDYRVLKKHTNVDIIDPLDAECKFTNRVKDFKGLFVKDADKKIIENLKLRNFLFKRENYLHRYPFCYRTNYPIIYRPISSWFVNVEKIKTQLLEVNEKINWMPAHLKKGRFGKWLENAKDWAISRNRFWGNPIPIWICSKTGKKICVGSRKELEELSGQKIEDLHKDKIDKITWPSKDGGTFIRTSEVLDCWFESGAMPYASNHYPFANESNFKNIFPADFIAEGLDQTRGWFYTLTILGTSLFENTAFKNVIVNGLVLSSDGRKMSKSFKNYTDPMEVINTFGADALRLYLIMSPVVKADDLKYSDNGVRDVLKNIIIPIWNAYSFFTTYAIIDKFKPTKNLSLVKSNNLDKWIISELESLKKILNKEIDKYNLTKSIESLLEFIDKLNNWYIRRSRRRFWKSENDKDKNDAYETLYYAIKTLMILLAPFIPFITEEIYQNLKTDEDKQSIHLNDYPKANENFIDKTIEEKINLARKITSMARSLRSLHNIKIRMPISTIYVVTKNQNEQNMLIEMQEIILDEINVKEMKIKSNEEELITYKAKANFKELGKKLGKDMKTVSIEISKLKNEDIIKIINGISHEIKVDNAKYYLSLNDIILERDEKDNLKVINEESITIGIDSLITQELYLEGLTREFVRQIQNLRKEKNFDVSDRINLYIENNATLEEILNKFEKYIKTETLALNIILNKSKLEKKINLDNDIFTIIGIEKC\n",
      "\n",
      "GO terms of first sequence:\n",
      "['GO:0005737', 'GO:0002161', 'GO:0005524', 'GO:0004822', 'GO:0000049', 'GO:0008270', 'GO:0006428']\n"
     ]
    }
   ],
   "source": [
    "print('Number of examples:', len(proteins_goes))\n",
    "print('\\nFirst sequence:\\n'+proteins_seqs[0])\n",
    "print('\\nGO terms of first sequence:\\n'+str(proteins_goes[0]))"
   ]
  },
  {
   "cell_type": "markdown",
   "metadata": {},
   "source": [
    "Let's start with parsing the amino acid sequences to answer the following questions:\n",
    "\n",
    "-How many unique amino acids there are in the database?\n",
    "\n",
    "-How many times each amino acid appear?\n",
    "\n",
    "-How long the amino acid sequences are?"
   ]
  },
  {
   "cell_type": "code",
   "execution_count": 5,
   "metadata": {},
   "outputs": [],
   "source": [
    "count_aminos={}\n",
    "length_seqs=[]\n",
    "for i, seq in enumerate(proteins_seqs):\n",
    "    length_seqs.append(len(seq))\n",
    "    for a in seq:\n",
    "        if a in count_aminos:\n",
    "            count_aminos[a] += 1\n",
    "        else:\n",
    "            count_aminos[a] = 0"
   ]
  },
  {
   "cell_type": "code",
   "execution_count": 6,
   "metadata": {},
   "outputs": [
    {
     "name": "stdout",
     "output_type": "stream",
     "text": [
      "Unique aminos (25):\n",
      "['M', 'F', 'K', 'V', 'E', 'N', 'A', 'P', 'I', 'L', 'W', 'D', 'S', 'Q', 'R', 'G', 'C', 'T', 'Y', 'H', 'U', 'X', 'B', 'Z', 'O']\n"
     ]
    },
    {
     "data": {
      "image/png": "[encoded data removed]",
      "text/plain": [
       "<Figure size 432x288 with 1 Axes>"
      ]
     },
     "metadata": {
      "needs_background": "light"
     },
     "output_type": "display_data"
    }
   ],
   "source": [
    "unique_aminos=list(count_aminos.keys())\n",
    "\n",
    "print('Unique aminos ({}):\\n{}'.format(len(unique_aminos), unique_aminos))\n",
    "x=[i for i in range(len(unique_aminos))]\n",
    "plt.bar(x, count_aminos.values())\n",
    "plt.xticks(x, unique_aminos)\n",
    "plt.show()"
   ]
  },
  {
   "cell_type": "markdown",
   "metadata": {},
   "source": [
    "There are 25 unique amino acids. The first 20 are the 20 known amino acids which appear from only 2.5 million times such as Tryptophan(W) and Cysteine(C) to around 20 million times such as Alanine(A) and Leucine(L).\n",
    "\n",
    "Interestingly, the last 5 amino acids: U, X, B, Z and O which appear "
   ]
  },
  {
   "cell_type": "code",
   "execution_count": 7,
   "metadata": {},
   "outputs": [
    {
     "name": "stdout",
     "output_type": "stream",
     "text": [
      "[327, 8273, 276, 248, 28]\n"
     ]
    }
   ],
   "source": [
    "print(list(count_aminos.values())[-5:])"
   ]
  },
  {
   "cell_type": "markdown",
   "metadata": {},
   "source": [
    "They describe respectively:\n",
    "\n",
    "U:\n",
    "\n",
    "X: any amino acid\n",
    "\n",
    "B: Asparagine/Aspartic Acid\n",
    "\n",
    "Z: Glutamine/Glutamic Acid\n",
    "\n",
    "O: "
   ]
  },
  {
   "cell_type": "markdown",
   "metadata": {},
   "source": [
    "As far as concerns the sequences"
   ]
  },
  {
   "cell_type": "code",
   "execution_count": 8,
   "metadata": {},
   "outputs": [
    {
     "name": "stdout",
     "output_type": "stream",
     "text": [
      "Average length: 359.37506918185096\n",
      "Deviation: 333.39939306284276\n",
      "Min length: 2\n",
      "Max length: 35213\n"
     ]
    }
   ],
   "source": [
    "print('Average length:', np.mean(length_seqs))\n",
    "print('Deviation:', np.std(length_seqs))\n",
    "print('Min length:', np.min(length_seqs))\n",
    "print('Max length:', np.max(length_seqs))"
   ]
  },
  {
   "cell_type": "code",
   "execution_count": 9,
   "metadata": {},
   "outputs": [
    {
     "name": "stdout",
     "output_type": "stream",
     "text": [
      "10 shortest:\n",
      "[2 2 3 3 3 3 3 4 4 4]\n",
      "10 longest:\n",
      "[10624 10746 11103 11872 13100 14507 18141 18562 34350 35213]\n",
      "Number sequences less than 30 AA: 5336\n",
      "Number sequences more than 500 AA: 107859\n",
      "Number sequences more than 1000 AA: 18144\n"
     ]
    }
   ],
   "source": [
    "sorted_seqs=np.array(length_seqs)\n",
    "sorted_seqs.sort()\n",
    "print('10 shortest:\\n{}\\n10 longest:\\n{}'.format(sorted_seqs[:10], sorted_seqs[-10:]))\n",
    "print('Number sequences less than 30 AA:', len(sorted_seqs[sorted_seqs<30]))\n",
    "print('Number sequences more than 500 AA:', len(sorted_seqs[sorted_seqs>500]))\n",
    "print('Number sequences more than 1000 AA:', len(sorted_seqs[sorted_seqs>1000]))"
   ]
  },
  {
   "cell_type": "markdown",
   "metadata": {},
   "source": [
    "# GOs analysis"
   ]
  },
  {
   "cell_type": "markdown",
   "metadata": {},
   "source": [
    "The list of known protein functions is build and curate by Gene Ontology Consortium. I'm going to use the go-basic.obo version."
   ]
  },
  {
   "cell_type": "code",
   "execution_count": 10,
   "metadata": {},
   "outputs": [],
   "source": [
    "import obonet\n",
    "import networkx\n",
    "graph=obonet.read_obo('../extract/go-basic.obo')"
   ]
  },
  {
   "cell_type": "code",
   "execution_count": 11,
   "metadata": {},
   "outputs": [
    {
     "name": "stdout",
     "output_type": "stream",
     "text": [
      "Number of GO terms in go-basic.obo: 44945\n",
      "Number of Gos used by the sequences: 28182\n",
      "Minimum times go occurs: 1\n",
      "Maximum times go occurs: 150422\n",
      "Average: 104.89177489177489\n"
     ]
    }
   ],
   "source": [
    "print('Number of GO terms in go-basic.obo:', len(graph.nodes()))\n",
    "\n",
    "#GOs distribution in the dataset\n",
    "goes_counter={}\n",
    "\n",
    "for seq_goes in proteins_goes:\n",
    "    for go in seq_goes:\n",
    "        if go in goes_counter:\n",
    "            goes_counter[go] +=1\n",
    "        else:\n",
    "            goes_counter[go] = 1\n",
    "            \n",
    "mylist=list(goes_counter.values())\n",
    "print('Number of Gos used by the sequences:', len(mylist))\n",
    "print('Minimum times go occurs:', np.min(mylist))\n",
    "print('Maximum times go occurs:', np.max(mylist))\n",
    "print('Average:', np.mean(mylist))"
   ]
  },
  {
   "cell_type": "code",
   "execution_count": 12,
   "metadata": {},
   "outputs": [
    {
     "name": "stdout",
     "output_type": "stream",
     "text": [
      "Number of GOs available in the GO ontology: 28128\n",
      "NOT available in the GO onology dictionary: 54\n"
     ]
    }
   ],
   "source": [
    "go_dict_counter=0\n",
    "outliners=0\n",
    "for go_name in goes_counter:\n",
    "    if go_name in go_dictionary:\n",
    "        go_dict_counter +=1\n",
    "    else:\n",
    "        outliners +=1\n",
    "\n",
    "print('Number of GOs available in the GO ontology:', go_dict_counter)\n",
    "print('NOT available in the GO onology dictionary:', outliners)"
   ]
  },
  {
   "cell_type": "markdown",
   "metadata": {},
   "source": [
    "From this first quick analysis we can see that there are 44945 listed in the GO Ontology file. While the GO used to describe the proteins functions are 28182. Morever, of these 28182 GO terms, 54 are not listed in the GO ontology file.\n",
    "\n",
    "Predicting 44945 labels is a huge multi-label classification problem. Due to the fact that the GO terms are stored in an Acyclic Graph, there are functions which describe multiple sub-functions. So, the number of functions to predict can be reduced by limiting the depth/precision of the predicted function. \n",
    "\n",
    "Let's parse the GO graph and split the GO terms based on their depth in the graph. The depth indicates the specificity of the function. For example, a GO term at depth 3 describes a specific function which belongs to a broader function described by a GO term at depth 2 or 1. "
   ]
  },
  {
   "cell_type": "markdown",
   "metadata": {},
   "source": [
    "## Split GOs in levels"
   ]
  },
  {
   "cell_type": "code",
   "execution_count": 13,
   "metadata": {},
   "outputs": [],
   "source": [
    "go_classes={\n",
    "    'biological_process':'GO:0008150',\n",
    "    'molecular_function':'GO:0003674',\n",
    "    'cellular_component':'GO:0005575'\n",
    "}"
   ]
  },
  {
   "cell_type": "code",
   "execution_count": 14,
   "metadata": {},
   "outputs": [
    {
     "name": "stdout",
     "output_type": "stream",
     "text": [
      "GO:0003674\n",
      "GO:0005575\n",
      "GO:0008150\n"
     ]
    }
   ],
   "source": [
    "report_depths={}\n",
    "for go_id in graph.nodes():\n",
    "    node=graph.nodes()[go_id]\n",
    "    #retrieve target node_id for the path\n",
    "    go_class_id=go_classes[node['namespace']]\n",
    "    \n",
    "    paths = networkx.all_simple_paths(\n",
    "        graph,\n",
    "        source=go_id,\n",
    "        target=go_class_id\n",
    "    )\n",
    "    \n",
    "    #retrieve the longest path (depth)\n",
    "    paths_length=[len(path) for path in paths]\n",
    "    if (paths_length==[]):\n",
    "        print(go_id)\n",
    "        depth=0\n",
    "    else:\n",
    "        depth=max(paths_length)-1\n",
    "    #save the go_id and its depth\n",
    "    if (depth not in report_depths):\n",
    "        report_depths[depth]=[go_id]\n",
    "    else:\n",
    "        report_depths[depth].append(go_id)\n"
   ]
  },
  {
   "cell_type": "code",
   "execution_count": 15,
   "metadata": {},
   "outputs": [
    {
     "name": "stdout",
     "output_type": "stream",
     "text": [
      "Depth: 6, terms: 5464\n",
      "Depth: 5, terms: 7473\n",
      "Depth: 1, terms: 61\n",
      "Depth: 9, terms: 5020\n",
      "Depth: 4, terms: 2899\n",
      "Depth: 8, terms: 5049\n",
      "Depth: 7, terms: 5501\n",
      "Depth: 3, terms: 1387\n",
      "Depth: 2, terms: 467\n",
      "Depth: 12, terms: 2012\n",
      "Depth: 13, terms: 1226\n",
      "Depth: 11, terms: 3094\n",
      "Depth: 10, terms: 4102\n",
      "Depth: 14, terms: 659\n",
      "Depth: 15, terms: 339\n",
      "Depth: 16, terms: 137\n",
      "Depth: 0, terms: 3\n",
      "Depth: 17, terms: 40\n",
      "Depth: 18, terms: 10\n",
      "Depth: 19, terms: 2\n"
     ]
    }
   ],
   "source": [
    "for depth in report_depths:\n",
    "    print('Depth: {}, terms: {}'.format(depth, len(report_depths[depth])))"
   ]
  },
  {
   "cell_type": "markdown",
   "metadata": {},
   "source": [
    "## Generating labels"
   ]
  },
  {
   "cell_type": "markdown",
   "metadata": {},
   "source": [
    "Let's start with prediting the first 3 levels. Here how many GO terms there are for each GO class for the first 3 levels"
   ]
  },
  {
   "cell_type": "code",
   "execution_count": 16,
   "metadata": {},
   "outputs": [],
   "source": [
    "max_depth=3"
   ]
  },
  {
   "cell_type": "code",
   "execution_count": 17,
   "metadata": {},
   "outputs": [
    {
     "name": "stdout",
     "output_type": "stream",
     "text": [
      "Number of labels: 1918\n",
      "GO classes: {'biological_process': 759, 'molecular_function': 716, 'cellular_component': 443}\n"
     ]
    }
   ],
   "source": [
    "labels=[]\n",
    "\n",
    "go_classes={\n",
    "    'biological_process':0,\n",
    "    'molecular_function':0,\n",
    "    'cellular_component':0\n",
    "}\n",
    "\n",
    "\n",
    "for depth in range(max_depth+1):\n",
    "    for go in report_depths[depth]:\n",
    "        labels.append(go)\n",
    "        \n",
    "for go in labels:\n",
    "    go_classes[graph.nodes()[go]['namespace']] +=1\n",
    "    \n",
    "print('Number of labels:', len(labels))\n",
    "print('GO classes:',go_classes)\n",
    "        "
   ]
  },
  {
   "cell_type": "markdown",
   "metadata": {},
   "source": [
    "The model is going to predict a total of 1918 GO terms. At the moment, all the terms of level 4 up to level 19 are grouped into their higher level terms. If a term of level 4 or more belongs to two or more labels, both labels are going to be set as 1.\n",
    "\n",
    "The subterms are mapped to all the labels which they belong."
   ]
  },
  {
   "cell_type": "code",
   "execution_count": 18,
   "metadata": {},
   "outputs": [
    {
     "name": "stdout",
     "output_type": "stream",
     "text": [
      "43027\n"
     ]
    }
   ],
   "source": [
    "subterms_labels={}\n",
    "for go_id in graph.nodes():\n",
    "    #the go ID is a subterm, because it is not a label\n",
    "    if go_id not in labels:\n",
    "        #get all the superterms (the labels)\n",
    "        superterms=networkx.descendants(graph, go_id)\n",
    "        \n",
    "        subterms_labels[go_id]=[]\n",
    "        for term in superterms:\n",
    "            #store the labels to which the subterm belongs\n",
    "            if term in labels:\n",
    "                subterms_labels[go_id].append(term)\n",
    "                \n",
    "print(len(subterms_labels))"
   ]
  },
  {
   "cell_type": "markdown",
   "metadata": {},
   "source": [
    "Finally, let's see how many times the labels occurs in the dataset as well as how many labels each example has. First without subterms integration"
   ]
  },
  {
   "cell_type": "code",
   "execution_count": 22,
   "metadata": {},
   "outputs": [
    {
     "name": "stdout",
     "output_type": "stream",
     "text": [
      "Label that appears the least number of times 0\n",
      "Label that appears the most number of times 48781\n",
      "Average number of times that labels occur 189.68508863399376\n",
      "Number of labels that has no examples 617\n",
      "\n",
      "\n",
      "\n",
      "Higher number of labels for a single example 32\n",
      "Lower number of labels for a single example 0\n",
      "Average number of labels for a single example 0.6495345623600741\n",
      "Number of examples with no labels 327438\n"
     ]
    }
   ],
   "source": [
    "labels_counter={}\n",
    "examples_labels=[]\n",
    "#build labels counter\n",
    "for go in labels:\n",
    "    labels_counter[go]=0\n",
    "    \n",
    "for idx, seq_goes in enumerate(proteins_goes):\n",
    "    labels_example=[]\n",
    "    for go in seq_goes:\n",
    "        #for each GO in each example\n",
    "        if go in labels:\n",
    "            labels_counter[go] += 1\n",
    "            if go not in labels_example:\n",
    "                labels_example.append(go)\n",
    "            \n",
    "    examples_labels.append(labels_example)\n",
    "\n",
    "n_labels=list(labels_counter.values())\n",
    "examples_counter=[len(ex) for ex in examples_labels]\n",
    "\n",
    "print('Label that appears the least number of times', min(n_labels))\n",
    "print('Label that appears the most number of times', max(n_labels))\n",
    "print('Average number of times that labels occur', np.mean(n_labels))\n",
    "print('Number of labels that has no examples', len(n_labels)-np.count_nonzero(n_labels))\n",
    "print('\\n\\n')\n",
    "print('Higher number of labels for a single example', max(examples_counter))\n",
    "print('Lower number of labels for a single example', min(examples_counter))\n",
    "print('Average number of labels for a single example', np.mean(examples_counter))\n",
    "print('Number of examples with no labels', len(examples_counter)-np.count_nonzero(examples_counter))"
   ]
  },
  {
   "cell_type": "markdown",
   "metadata": {},
   "source": [
    "Then, integrating the subterms"
   ]
  },
  {
   "cell_type": "code",
   "execution_count": 23,
   "metadata": {},
   "outputs": [
    {
     "name": "stdout",
     "output_type": "stream",
     "text": [
      "Label that appears the least number of times 0\n",
      "Label that appears the most number of times 1011237\n",
      "Average number of times that labels occur 11041.893639207508\n",
      "Number of labels that has no examples 365\n",
      "\n",
      "\n",
      "\n",
      "Higher number of labels for a single example 225\n",
      "Lower number of labels for a single example 0\n",
      "Average number of labels for a single example 24.86535694264423\n",
      "Number of examples with no labels 25914\n"
     ]
    }
   ],
   "source": [
    "for idx, seq_goes in enumerate(proteins_goes):\n",
    "    for go in seq_goes:\n",
    "        #for each GO in each example\n",
    "        if go in subterms_labels:\n",
    "            #retrieve the labels associate with the GO subterm\n",
    "            for mapped_label in subterms_labels[go]:\n",
    "                labels_counter[mapped_label] += 1\n",
    "                if mapped_label not in examples_labels[idx]:\n",
    "                    examples_labels[idx].append(mapped_label)\n",
    "\n",
    "n_labels=list(labels_counter.values())\n",
    "examples_counter=[len(ex) for ex in examples_labels]\n",
    "\n",
    "print('Label that appears the least number of times', min(n_labels))\n",
    "print('Label that appears the most number of times', max(n_labels))\n",
    "print('Average number of times that labels occur', np.mean(n_labels))\n",
    "print('Number of labels that has no examples', len(n_labels)-np.count_nonzero(n_labels))\n",
    "print('\\n\\n')\n",
    "print('Higher number of labels for a single example', max(examples_counter))\n",
    "print('Lower number of labels for a single example', min(examples_counter))\n",
    "print('Average number of labels for a single example', np.mean(examples_counter))\n",
    "print('Number of examples with no labels', len(examples_counter)-np.count_nonzero(examples_counter))"
   ]
  },
  {
   "cell_type": "markdown",
   "metadata": {},
   "source": [
    "# Conclusion"
   ]
  },
  {
   "cell_type": "markdown",
   "metadata": {},
   "source": [
    "Now, that I got an idea of the dataset, I have to decide the criterias in order to remove the examples that don't match all the requirements.\n",
    "\n",
    "There is a total of 560118 sequences with a length ranging from 2 to 35k amino acids. Around 5k proteins are below 30 amino acids which is common to be the minimum length required to define an amino acid sequence as protein. Other 18k proteins have a length larger than 1000 amino acids.\n",
    "Moreover, some sequences have unknown amino acids marked as X.\n",
    "\n",
    "The GOs provided by the Gene Ontology Consortium are 44945 while the GO terms used by the examples are only 28182. Moreover, 54 functions carried by some proteins in the database are not available in the GO ontology dictionary. \n",
    "\n",
    "I decided to start by using amino acids sequences between 0 and 512 long. There is no particular reason behind this numbers. \n",
    "\n",
    "The 44945 possible labels create a very hard multi-label classification problem with a very sparse output vector. So, I decided to limit the predictions to the 1918 more general functions which correspond to the GO terms up to depth 3 in the acyclic graph of GO terms. \n",
    "The GO terms not in the GO dictonary (acyclic graph) are discarded while the other 40000 and more terms which are available in the acyclic graph are handled as follows.\n",
    "\n",
    "The remaining 40000 and more terms are sub-terms of the 1918 functions used as labels. So, I decided to substitute these sub-terms with their parent functions available as labels. In the case that an example has a sub-term belonging to two or more GO labels, all these GO labels are used as prediction.\n",
    "\n",
    "This choice allows to move from an average of 0.6 labels for example to almost 25 labels reducing the sparsity. At the same time, it allows to move from 327438 examples with 0 labels as predictions to only 25914. \n",
    "Moreover, now only 365 functions of the 1918 available have no examples. \n",
    "\n",
    "\n",
    "**IDEAS:**\n",
    "\n",
    "- Maybe use amino acid sequences between 0 and 1025 (2 stds from the mean which covers 97.7% of the examples in the dataset) or between 0 and 692 (1 std from the mean, which is 84.1% of dataset). Decide based on the memory contraints due to the input of size \\[batch, seq_length, amino_acid_vec\\] \n",
    "- Consider to increase the depth of the functions used as prediction\n",
    "- Consider to use a GO ontology dictionary that contains more relationship than only is_a in order to better capture the relationships between the different functions"
   ]
  },
  {
   "cell_type": "code",
   "execution_count": 24,
   "metadata": {},
   "outputs": [],
   "source": [
    "data={}\n",
    "data['unique_aminos']=unique_aminos\n",
    "data['min_length_aminos']=0\n",
    "data['max_length_aminos']=512\n",
    "data['available_gos']=labels\n",
    "data['mapped_gos']=subterms_labels\n",
    "\n",
    "\n",
    "with open('../hyperparams.yaml', 'w') as outfile:\n",
    "    yaml.dump(data, outfile)"
   ]
  },
  {
   "cell_type": "code",
   "execution_count": null,
   "metadata": {},
   "outputs": [],
   "source": []
  }
 ],
 "metadata": {
  "kernelspec": {
   "display_name": "Python 3",
   "language": "python",
   "name": "python3"
  },
  "language_info": {
   "codemirror_mode": {
    "name": "ipython",
    "version": 3
   },
   "file_extension": ".py",
   "mimetype": "text/x-python",
   "name": "python",
   "nbconvert_exporter": "python",
   "pygments_lexer": "ipython3",
   "version": "3.6.8"
  }
 },
 "nbformat": 4,
 "nbformat_minor": 2
}
