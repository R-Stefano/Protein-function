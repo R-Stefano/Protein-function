{
 "cells": [
  {
   "cell_type": "markdown",
   "metadata": {},
   "source": [
    "# Proteins functions prediction project"
   ]
  },
  {
   "cell_type": "markdown",
   "metadata": {},
   "source": [
    "This scripts explore the Uniprot and GO ontology datasets. It is used for the proteins function prediction project. The output of the script is a yaml file containing the criterias to use to filter out the examples from the dataset and to filter out the GO terms.\n",
    "\n",
    "The yaml file contains information about the amino acids sequences length, the GO terms to use as labels and the mapping of GO sub-terms to GO labels. "
   ]
  },
  {
   "cell_type": "code",
   "execution_count": 1,
   "metadata": {},
   "outputs": [],
   "source": [
    "import pickle\n",
    "import seaborn as sns\n",
    "import matplotlib.pyplot as plt\n",
    "import pandas as pd\n",
    "import numpy as np\n",
    "import yaml\n",
    "sns.set()"
   ]
  },
  {
   "cell_type": "markdown",
   "metadata": {},
   "source": [
    "# Amino acids sequences analysis"
   ]
  },
  {
   "cell_type": "code",
   "execution_count": 2,
   "metadata": {},
   "outputs": [],
   "source": [
    "with open('../../hyperparams.yaml') as f:\n",
    "    configs=yaml.load(f)\n",
    "    \n",
    "data_dir=configs['data_dir']\n",
    "with open(data_dir+\"proteins_goes\", \"rb\") as fp:\n",
    "    proteins_goes=pickle.load(fp)\n",
    "\n",
    "with open(data_dir+\"proteins_seqs\", \"rb\") as fp:\n",
    "    proteins_seqs=pickle.load(fp)"
   ]
  },
  {
   "cell_type": "code",
   "execution_count": 3,
   "metadata": {},
   "outputs": [
    {
     "name": "stdout",
     "output_type": "stream",
     "text": [
      "Number of examples's labels: 471417\n",
      "Number of examples's sequences: 471417\n",
      "\n",
      "First sequence:\n",
      "ADTIVAVELDTYPNTDIGDPSYPHIGIDIKSVRSKKTAKWNMQNGKVGTAHIIYNSVGKRLSAVVSYPNGDSATVSYDVDLDNVLPEWVRVGLSATTGLYKETNTILSWSFTSKLKSNSTHETNALHFMFNQFSKDQKDLILQGDATTGRDGNLELTRVSSNGSPQGSSVGRALFYAPVHIWESSAVVASFDATFTFLIKSSDSHPADGIAFFISNIDSSIPSGSTGRLLGLFPDAN\n",
      "\n",
      "GO terms of first sequence:\n",
      "['GO:0005537', 'GO:0046872']\n"
     ]
    }
   ],
   "source": [
    "print('Number of examples\\'s labels:', len(proteins_goes))\n",
    "print('Number of examples\\'s sequences:', len(proteins_seqs))\n",
    "\n",
    "print('\\nFirst sequence:\\n'+proteins_seqs[0])\n",
    "print('\\nGO terms of first sequence:\\n'+str(proteins_goes[0]))"
   ]
  },
  {
   "cell_type": "markdown",
   "metadata": {},
   "source": [
    "# AA sequences"
   ]
  },
  {
   "cell_type": "markdown",
   "metadata": {},
   "source": [
    "Let's start with parsing the amino acid sequences to answer the following questions:\n",
    "\n",
    "-How many unique amino acids there are in the database?\n",
    "\n",
    "-How many times each amino acid appear?\n",
    "\n",
    "-How long the amino acid sequences are?"
   ]
  },
  {
   "cell_type": "code",
   "execution_count": 4,
   "metadata": {},
   "outputs": [],
   "source": [
    "count_aminos={}\n",
    "length_seqs=[]\n",
    "for i, seq in enumerate(proteins_seqs):\n",
    "    length_seqs.append(len(seq))\n",
    "    for a in seq:\n",
    "        if a in count_aminos:\n",
    "            count_aminos[a] += 1\n",
    "        else:\n",
    "            count_aminos[a] = 0"
   ]
  },
  {
   "cell_type": "code",
   "execution_count": 5,
   "metadata": {},
   "outputs": [
    {
     "name": "stdout",
     "output_type": "stream",
     "text": [
      "Unique aminos (25):\n",
      "['A', 'D', 'T', 'I', 'V', 'E', 'L', 'Y', 'P', 'N', 'G', 'S', 'H', 'K', 'R', 'W', 'M', 'Q', 'F', 'C', 'X', 'B', 'U', 'Z', 'O']\n"
     ]
    },
    {
     "data": {
      "image/png": "[encoded data removed]",
      "text/plain": [
       "<Figure size 432x288 with 1 Axes>"
      ]
     },
     "metadata": {
      "needs_background": "light"
     },
     "output_type": "display_data"
    }
   ],
   "source": [
    "unique_aminos=list(count_aminos.keys())\n",
    "\n",
    "print('Unique aminos ({}):\\n{}'.format(len(unique_aminos), unique_aminos))\n",
    "x=[i for i in range(len(unique_aminos))]\n",
    "plt.bar(x, count_aminos.values())\n",
    "plt.xticks(x, unique_aminos)\n",
    "plt.show()"
   ]
  },
  {
   "cell_type": "markdown",
   "metadata": {},
   "source": [
    "There are 25 unique amino acids. The first 20 are the 20 known amino acids which appear from only 2.5 million times such as Tryptophan(W) and Cysteine(C) to around 20 million times such as Alanine(A) and Leucine(L).\n",
    "\n",
    "Interestingly, the last 5 amino acids: U, X, B, Z and O which appear "
   ]
  },
  {
   "cell_type": "code",
   "execution_count": 6,
   "metadata": {},
   "outputs": [
    {
     "name": "stdout",
     "output_type": "stream",
     "text": [
      "[8213, 275, 318, 248, 26]\n"
     ]
    }
   ],
   "source": [
    "print(list(count_aminos.values())[-5:])"
   ]
  },
  {
   "cell_type": "markdown",
   "metadata": {},
   "source": [
    "They describe respectively:\n",
    "\n",
    "U:\n",
    "\n",
    "X: any amino acid\n",
    "\n",
    "B: Asparagine/Aspartic Acid\n",
    "\n",
    "Z: Glutamine/Glutamic Acid\n",
    "\n",
    "O: "
   ]
  },
  {
   "cell_type": "markdown",
   "metadata": {},
   "source": [
    "As far as concerns the sequences"
   ]
  },
  {
   "cell_type": "code",
   "execution_count": 7,
   "metadata": {},
   "outputs": [
    {
     "name": "stdout",
     "output_type": "stream",
     "text": [
      "Average length: 378.2516328431092\n",
      "Deviation: 350.55920173527727\n",
      "Min length: 2\n",
      "Max length: 35213\n"
     ]
    }
   ],
   "source": [
    "print('Average length:', np.mean(length_seqs))\n",
    "print('Deviation:', np.std(length_seqs))\n",
    "print('Min length:', np.min(length_seqs))\n",
    "print('Max length:', np.max(length_seqs))"
   ]
  },
  {
   "cell_type": "code",
   "execution_count": 8,
   "metadata": {},
   "outputs": [
    {
     "name": "stdout",
     "output_type": "stream",
     "text": [
      "10 shortest:\n",
      "[2 2 3 3 4 4 4 4 4 4]\n",
      "10 longest:\n",
      "[10624 10746 11103 11872 13100 14507 18141 18562 34350 35213]\n",
      "Number sequences less than 30 AA: 4109\n",
      "Number sequences more than 500 AA: 100052\n",
      "Number sequences more than 1000 AA: 17640\n"
     ]
    }
   ],
   "source": [
    "sorted_seqs=np.array(length_seqs)\n",
    "sorted_seqs.sort()\n",
    "print('10 shortest:\\n{}\\n10 longest:\\n{}'.format(sorted_seqs[:10], sorted_seqs[-10:]))\n",
    "print('Number sequences less than 30 AA:', len(sorted_seqs[sorted_seqs<30]))\n",
    "print('Number sequences more than 500 AA:', len(sorted_seqs[sorted_seqs>500]))\n",
    "print('Number sequences more than 1000 AA:', len(sorted_seqs[sorted_seqs>1000]))"
   ]
  },
  {
   "cell_type": "code",
   "execution_count": 9,
   "metadata": {},
   "outputs": [
    {
     "data": {
      "image/png": "[encoded data removed]",
      "text/plain": [
       "<Figure size 432x288 with 1 Axes>"
      ]
     },
     "metadata": {
      "needs_background": "light"
     },
     "output_type": "display_data"
    }
   ],
   "source": [
    "fig, ax=plt.subplots()\n",
    "\n",
    "ax=sns.kdeplot(length_seqs, shade=True)"
   ]
  },
  {
   "cell_type": "code",
   "execution_count": 10,
   "metadata": {},
   "outputs": [
    {
     "data": {
      "image/png": "[encoded data removed]",
      "text/plain": [
       "<Figure size 432x288 with 1 Axes>"
      ]
     },
     "metadata": {
      "needs_background": "light"
     },
     "output_type": "display_data"
    }
   ],
   "source": [
    "length_seqs=np.asarray(length_seqs)\n",
    "lengths_truncated=length_seqs[length_seqs<(378+2*350)]\n",
    "\n",
    "\n",
    "fig, ax=plt.subplots()\n",
    "\n",
    "ax=sns.kdeplot(lengths_truncated, shade=True)"
   ]
  },
  {
   "cell_type": "markdown",
   "metadata": {},
   "source": [
    "# GOs analysis"
   ]
  },
  {
   "cell_type": "markdown",
   "metadata": {},
   "source": [
    "The list of known protein functions is build and curate by Gene Ontology Consortium. I'm going to use the go-basic.obo version."
   ]
  },
  {
   "cell_type": "code",
   "execution_count": 11,
   "metadata": {},
   "outputs": [
    {
     "name": "stdout",
     "output_type": "stream",
     "text": [
      "Number of GO terms classified by ontology: 44945\n"
     ]
    }
   ],
   "source": [
    "import obonet\n",
    "import networkx\n",
    "graph=obonet.read_obo(data_dir+'go-basic.obo')\n",
    "gos_classified=graph.nodes()\n",
    "print('Number of GO terms classified by ontology:', len(gos_classified))"
   ]
  },
  {
   "cell_type": "markdown",
   "metadata": {},
   "source": [
    "Let's start by exploring the GO terms in the examples. Some question to answer:\n",
    "- How many unique GO terms there are in the dataset?\n",
    "- How many examples there are for each GO term?"
   ]
  },
  {
   "cell_type": "code",
   "execution_count": 12,
   "metadata": {},
   "outputs": [
    {
     "name": "stdout",
     "output_type": "stream",
     "text": [
      "Number of unique GOs in the dataset: 28069\n",
      "Minimum times go occurs: 1\n",
      "Maximum times go occurs: 124824\n",
      "Average: 92.37422067049057\n"
     ]
    }
   ],
   "source": [
    "#GOs in dataset\n",
    "dataset_gos={}\n",
    "num_gos_examples=[]\n",
    "\n",
    "for seq_goes in proteins_goes:\n",
    "    num_gos_examples.append(len(seq_goes))\n",
    "    for go in seq_goes:\n",
    "        if go in dataset_gos:\n",
    "            dataset_gos[go] +=1\n",
    "        else:\n",
    "            dataset_gos[go] = 1\n",
    "\n",
    "unique_gos=np.asarray(list(dataset_gos.keys()))\n",
    "gos_num_occurences=np.asarray(list(dataset_gos.values()))\n",
    "print('Number of unique GOs in the dataset:', len(unique_gos))\n",
    "print('Minimum times go occurs:', np.min(gos_num_occurences))\n",
    "print('Maximum times go occurs:', np.max(gos_num_occurences))\n",
    "print('Average:', np.mean(gos_num_occurences))"
   ]
  },
  {
   "cell_type": "code",
   "execution_count": 13,
   "metadata": {},
   "outputs": [
    {
     "name": "stdout",
     "output_type": "stream",
     "text": [
      ">Top 5 least frequent terms:\n",
      "GO:0047920 | geissoschizine dehydrogenase activity | frequency: 1\n",
      "GO:0002107 | generation of mature 3'-end of 5S rRNA generated by RNA polymerase III | frequency: 1\n",
      "GO:1903222 | quinolinic acid transmembrane transport | frequency: 1\n",
      "GO:0031921 | pyridoxal phosphate transport | frequency: 1\n",
      "GO:0034209 | sterol acetylation | frequency: 1\n",
      "GO:1904183 | negative regulation of pyruvate dehydrogenase activity | frequency: 1\n",
      "GO:2001160 | regulation of histone H3-K79 methylation | frequency: 1\n",
      "GO:1900381 | positive regulation of asperthecin biosynthetic process | frequency: 1\n",
      "GO:0010355 | homogentisate farnesyltransferase activity | frequency: 1\n",
      "GO:0010356 | homogentisate geranylgeranyltransferase activity | frequency: 1\n",
      "\n",
      ">Top 5 top frequent terms:\n",
      "GO:0005840 | ribosome | frequency: 23263\n",
      "GO:0003677 | DNA binding | frequency: 26626\n",
      "GO:0003735 | structural constituent of ribosome | frequency: 34601\n",
      "GO:0005634 | nucleus | frequency: 35423\n",
      "GO:0006412 | translation | frequency: 36716\n",
      "GO:0005886 | plasma membrane | frequency: 48349\n",
      "GO:0046872 | metal ion binding | frequency: 49739\n",
      "GO:0016021 | integral component of membrane | frequency: 57061\n",
      "GO:0005524 | ATP binding | frequency: 74812\n",
      "GO:0005737 | cytoplasm | frequency: 124824\n"
     ]
    }
   ],
   "source": [
    "gos_asc_order_occurence=unique_gos[np.argsort(gos_num_occurences)]\n",
    "print('>Top 5 least frequent terms:')\n",
    "for idx, term in enumerate(gos_asc_order_occurence[:10]):\n",
    "    print('{} | {} | frequency: {}'.format(term, graph.nodes()[term]['name'], gos_num_occurences[np.argsort(gos_num_occurences)][idx]))\n",
    "\n",
    "print('\\n>Top 5 top frequent terms:')\n",
    "for idx, term in enumerate(gos_asc_order_occurence[-10:]):\n",
    "    print('{} | {} | frequency: {}'.format(term, graph.nodes()[term]['name'], gos_num_occurences[np.argsort(gos_num_occurences)][-(10-idx)]))"
   ]
  },
  {
   "cell_type": "code",
   "execution_count": 14,
   "metadata": {},
   "outputs": [
    {
     "name": "stdout",
     "output_type": "stream",
     "text": [
      "Number of GOs available in the GO ontology: 28058\n",
      "NOT available in the GO onology dictionary: 11\n"
     ]
    }
   ],
   "source": [
    "num_dataset_gos_classified=0\n",
    "num_dataset_gos_not_classified=0\n",
    "for go_name in dataset_gos:\n",
    "    if go_name in gos_classified:\n",
    "        num_dataset_gos_classified +=1\n",
    "    else:\n",
    "        num_dataset_gos_not_classified +=1\n",
    "\n",
    "print('Number of GOs available in the GO ontology:', num_dataset_gos_classified)\n",
    "print('NOT available in the GO onology dictionary:', num_dataset_gos_not_classified)"
   ]
  },
  {
   "cell_type": "markdown",
   "metadata": {},
   "source": [
    "From this first quick analysis we can see that there are 44945 listed in the GO Ontology file. While the GO used to describe the proteins functions are 28182. Morever, of these 28182 GO terms, 54 are not listed in the GO ontology file.\n",
    "\n",
    "Predicting 44945 labels is a huge multi-label classification problem. Due to the fact that the GO terms are stored in an Acyclic Graph, there are functions which describe multiple sub-functions. So, the number of functions to predict can be reduced by limiting the depth/precision of the predicted function. \n",
    "\n",
    "Let's parse the GO graph and split the GO terms based on their depth in the graph. The depth indicates the specificity of the function. For example, a GO term at depth 3 describes a specific function which belongs to a broader function described by a GO term at depth 2 or 1. "
   ]
  },
  {
   "cell_type": "markdown",
   "metadata": {},
   "source": [
    "## Split GOs in levels"
   ]
  },
  {
   "cell_type": "code",
   "execution_count": 15,
   "metadata": {},
   "outputs": [],
   "source": [
    "go_classes={\n",
    "    'biological_process':'GO:0008150',\n",
    "    'molecular_function':'GO:0003674',\n",
    "    'cellular_component':'GO:0005575'\n",
    "}"
   ]
  },
  {
   "cell_type": "code",
   "execution_count": 16,
   "metadata": {},
   "outputs": [
    {
     "name": "stdout",
     "output_type": "stream",
     "text": [
      "GO:0003674\n",
      "GO:0005575\n",
      "GO:0008150\n"
     ]
    }
   ],
   "source": [
    "report_depths={}\n",
    "for go_id in graph.nodes():\n",
    "    node=graph.nodes()[go_id]\n",
    "    #retrieve target node_id for the path\n",
    "    go_class_id=go_classes[node['namespace']]\n",
    "    \n",
    "    paths = networkx.all_simple_paths(\n",
    "        graph,\n",
    "        source=go_id,\n",
    "        target=go_class_id\n",
    "    )\n",
    "    \n",
    "    #retrieve the longest path (depth)\n",
    "    paths_length=[len(path) for path in paths]\n",
    "    if (paths_length==[]):\n",
    "        print(go_id)\n",
    "        depth=0\n",
    "    else:\n",
    "        depth=max(paths_length)-1\n",
    "    #save the go_id and its depth\n",
    "    if (depth not in report_depths):\n",
    "        report_depths[depth]=[go_id]\n",
    "    else:\n",
    "        report_depths[depth].append(go_id)\n"
   ]
  },
  {
   "cell_type": "code",
   "execution_count": 17,
   "metadata": {},
   "outputs": [
    {
     "name": "stdout",
     "output_type": "stream",
     "text": [
      "Depth: 6, terms: 5464\n",
      "Depth: 5, terms: 7473\n",
      "Depth: 1, terms: 61\n",
      "Depth: 9, terms: 5020\n",
      "Depth: 4, terms: 2899\n",
      "Depth: 8, terms: 5049\n",
      "Depth: 7, terms: 5501\n",
      "Depth: 3, terms: 1387\n",
      "Depth: 2, terms: 467\n",
      "Depth: 12, terms: 2012\n",
      "Depth: 13, terms: 1226\n",
      "Depth: 11, terms: 3094\n",
      "Depth: 10, terms: 4102\n",
      "Depth: 14, terms: 659\n",
      "Depth: 15, terms: 339\n",
      "Depth: 16, terms: 137\n",
      "Depth: 0, terms: 3\n",
      "Depth: 17, terms: 40\n",
      "Depth: 18, terms: 10\n",
      "Depth: 19, terms: 2\n"
     ]
    }
   ],
   "source": [
    "for depth in report_depths:\n",
    "    print('Depth: {}, terms: {}'.format(depth, len(report_depths[depth])))"
   ]
  },
  {
   "cell_type": "markdown",
   "metadata": {},
   "source": [
    "## Generating labels"
   ]
  },
  {
   "cell_type": "markdown",
   "metadata": {},
   "source": [
    "Let's start with prediting the first 3 levels. Here how many GO terms there are for each GO class for the first 3 levels"
   ]
  },
  {
   "cell_type": "code",
   "execution_count": 18,
   "metadata": {},
   "outputs": [],
   "source": [
    "max_depth=3"
   ]
  },
  {
   "cell_type": "code",
   "execution_count": 19,
   "metadata": {},
   "outputs": [
    {
     "name": "stdout",
     "output_type": "stream",
     "text": [
      "Number of labels: 1918\n",
      "GO classes: {'biological_process': 759, 'molecular_function': 716, 'cellular_component': 443}\n"
     ]
    }
   ],
   "source": [
    "labels=[]\n",
    "\n",
    "go_classes_count={\n",
    "    'biological_process':0,\n",
    "    'molecular_function':0,\n",
    "    'cellular_component':0\n",
    "}\n",
    "\n",
    "\n",
    "for depth in range(max_depth+1):\n",
    "    for go in report_depths[depth]:\n",
    "        labels.append(go)\n",
    "        \n",
    "for go in labels:\n",
    "    go_classes_count[graph.nodes()[go]['namespace']] +=1\n",
    "    \n",
    "print('Number of labels:', len(labels))\n",
    "print('GO classes:',go_classes_count)\n",
    "        "
   ]
  },
  {
   "cell_type": "markdown",
   "metadata": {},
   "source": [
    "The model is going to predict a total of 1918 GO terms. At the moment, all the terms of level 4 up to level 19 are grouped into their higher level terms. If a term of level 4 or more belongs to two or more labels, both labels are going to be set as 1.\n",
    "\n",
    "However, an AA sequence is not associated with all the GO terms at different levels. So, for each GO term, label or not, all the parent nodes available as label are associated to the GO term."
   ]
  },
  {
   "cell_type": "code",
   "execution_count": 20,
   "metadata": {},
   "outputs": [
    {
     "name": "stdout",
     "output_type": "stream",
     "text": [
      "Processed: 0 terms\n",
      "Processed: 5000 terms\n",
      "Processed: 10000 terms\n",
      "Processed: 15000 terms\n",
      "Processed: 20000 terms\n",
      "Processed: 25000 terms\n",
      "Processed: 30000 terms\n",
      "Processed: 35000 terms\n",
      "Processed: 40000 terms\n",
      "44945\n"
     ]
    }
   ],
   "source": [
    "#Map each GO term to its parent nodes selected as labels.\n",
    "parent_terms={}\n",
    "for idx, go_id in enumerate(graph.nodes()):\n",
    "    if idx%5000==0:\n",
    "        print('Processed: {} terms'.format(idx))\n",
    "    node=graph.nodes()[go_id]\n",
    "    #retrieve target node_id for the path\n",
    "    go_class_id=go_classes[node['namespace']]\n",
    "\n",
    "    paths = networkx.all_simple_paths(\n",
    "        graph,\n",
    "        source=go_id,\n",
    "        target=go_class_id\n",
    "    )\n",
    "    if (go_id in labels):\n",
    "        parents=[go_id] #include itself\n",
    "    else:\n",
    "        parents=[]\n",
    "    for path in paths:\n",
    "        for term in path:\n",
    "            if ((term in labels) and (term not in parents)):\n",
    "                parents.append(term)\n",
    "\n",
    "    parent_terms[go_id]=parents\n",
    "                                \n",
    "print(len(parent_terms))"
   ]
  },
  {
   "cell_type": "markdown",
   "metadata": {},
   "source": [
    "Finally, let's see how many times the labels occurs in the dataset as well as how many labels each example has. First without subterms integration"
   ]
  },
  {
   "cell_type": "code",
   "execution_count": 21,
   "metadata": {},
   "outputs": [
    {
     "name": "stdout",
     "output_type": "stream",
     "text": [
      "Label that appears the least number of times 0\n",
      "Label that appears the most number of times 34601\n",
      "Average number of times that labels occur 165.1616266944734\n",
      "Number of labels that has no examples 613\n",
      "\n",
      "\n",
      "\n",
      "Higher number of labels for a single example 32\n",
      "Lower number of labels for a single example 0\n",
      "Average number of labels for a single example 0.6719740696665585\n",
      "Number of examples with no labels 274526\n"
     ]
    }
   ],
   "source": [
    "labels_counter={}\n",
    "examples_labels_counter=[]\n",
    "#build labels counter\n",
    "for go in labels:\n",
    "    labels_counter[go]=0\n",
    "    \n",
    "for idx, seq_goes in enumerate(proteins_goes):\n",
    "    labels_example=[]\n",
    "    for go in seq_goes:\n",
    "        #for each GO in each example\n",
    "        if go in labels:\n",
    "            labels_counter[go] += 1\n",
    "            if go not in labels_example:\n",
    "                labels_example.append(go)\n",
    "            \n",
    "    examples_labels_counter.append(labels_example)\n",
    "\n",
    "n_labels=list(labels_counter.values())\n",
    "examples_counter=[len(ex) for ex in examples_labels_counter]\n",
    "\n",
    "print('Label that appears the least number of times', min(n_labels))\n",
    "print('Label that appears the most number of times', max(n_labels))\n",
    "print('Average number of times that labels occur', np.mean(n_labels))\n",
    "print('Number of labels that has no examples', len(n_labels)-np.count_nonzero(n_labels))\n",
    "print('\\n\\n')\n",
    "print('Higher number of labels for a single example', max(examples_counter))\n",
    "print('Lower number of labels for a single example', min(examples_counter))\n",
    "print('Average number of labels for a single example', np.mean(examples_counter))\n",
    "print('Number of examples with no labels', len(examples_counter)-np.count_nonzero(examples_counter))"
   ]
  },
  {
   "cell_type": "markdown",
   "metadata": {},
   "source": [
    "Then, integrating the subterms"
   ]
  },
  {
   "cell_type": "code",
   "execution_count": 25,
   "metadata": {},
   "outputs": [
    {
     "name": "stdout",
     "output_type": "stream",
     "text": [
      "Label that appears the least number of times 0\n",
      "Label that appears the most number of times 396209\n",
      "Average number of times that labels occur 6394.1944734098015\n",
      "Number of labels that has no examples 357\n",
      "\n",
      "\n",
      "\n",
      "Higher number of labels for a single example 237\n",
      "Lower number of labels for a single example 0\n",
      "Average number of labels for a single example 26.0153218912343\n",
      "Number of examples with no labels 21468\n"
     ]
    }
   ],
   "source": [
    "labels_counter={}\n",
    "examples_labels=[]\n",
    "#build labels counter\n",
    "for go in labels:\n",
    "    labels_counter[go]=0\n",
    "    \n",
    "graph=list(graph.nodes().keys())\n",
    "for idx, seq_goes in enumerate(proteins_goes):\n",
    "    labels_example=[]\n",
    "    for go in seq_goes:\n",
    "        #get all the labels associate with a GO term\n",
    "        if go in graph:\n",
    "            go_parents=parent_terms[go]\n",
    "            for go_p in go_parents:\n",
    "                if ((go_p in labels) and (go_p not in labels_example)):\n",
    "                    labels_counter[go_p] +=1\n",
    "                    labels_example.append(go_p)\n",
    "    \n",
    "    examples_labels.append(labels_example)\n",
    "            \n",
    "n_labels=list(labels_counter.values())\n",
    "examples_counter=[len(ex) for ex in examples_labels]\n",
    "\n",
    "print('Label that appears the least number of times', min(n_labels))\n",
    "print('Label that appears the most number of times', max(n_labels))\n",
    "print('Average number of times that labels occur', np.mean(n_labels))\n",
    "print('Number of labels that has no examples', len(n_labels)-np.count_nonzero(n_labels))\n",
    "print('\\n\\n')\n",
    "print('Higher number of labels for a single example', max(examples_counter))\n",
    "print('Lower number of labels for a single example', min(examples_counter))\n",
    "print('Average number of labels for a single example', np.mean(examples_counter))\n",
    "print('Number of examples with no labels', len(examples_counter)-np.count_nonzero(examples_counter))"
   ]
  },
  {
   "cell_type": "markdown",
   "metadata": {},
   "source": [
    "# Conclusion"
   ]
  },
  {
   "cell_type": "markdown",
   "metadata": {},
   "source": [
    "Now, that I got an idea of the dataset, I have to decide the criterias in order to remove the examples that don't match all the requirements.\n",
    "\n",
    "There is a total of 560118 sequences with a length ranging from 2 to 35k amino acids. Around 5k proteins are below 30 amino acids which is common to be the minimum length required to define an amino acid sequence as protein. Other 18k proteins have a length larger than 1000 amino acids.\n",
    "Moreover, some sequences have unknown amino acids marked as X.\n",
    "\n",
    "The GOs provided by the Gene Ontology Consortium are 44945 while the GO terms used by the examples are only 28182. Moreover, 54 functions carried by some proteins in the database are not available in the GO ontology dictionary. \n",
    "\n",
    "I decided to start by using amino acids sequences between 0 and 512 long. There is no particular reason behind this numbers. \n",
    "\n",
    "The 44945 possible labels create a very hard multi-label classification problem with a very sparse output vector. So, I decided to limit the predictions to the 1918 more general functions which correspond to the GO terms up to depth 3 in the acyclic graph of GO terms. \n",
    "The GO terms not in the GO dictonary (acyclic graph) are discarded while the other 40000 and more terms which are available in the acyclic graph are handled as follows.\n",
    "\n",
    "The remaining 40000 and more terms are sub-terms of the 1918 functions used as labels. So, I decided to substitute these sub-terms with their parent functions available as labels. In the case that an example has a sub-term belonging to two or more GO labels, all these GO labels are used as prediction.\n",
    "\n",
    "This choice allows to move from an average of 0.6 labels for example to almost 25 labels reducing the sparsity. At the same time, it allows to move from 327438 examples with 0 labels as predictions to only 25914. \n",
    "Moreover, now only 365 functions of the 1918 available have no examples. \n",
    "\n",
    "\n",
    "**IDEAS:**\n",
    "\n",
    "- Maybe use amino acid sequences between 0 and 1025 (2 stds from the mean which covers 97.7% of the examples in the dataset) or between 0 and 692 (1 std from the mean, which is 84.1% of dataset). Decide based on the memory contraints due to the input of size \\[batch, seq_length, amino_acid_vec\\] \n",
    "- Consider to increase the depth of the functions used as prediction\n",
    "- Consider to use a GO ontology dictionary that contains more relationship than only is_a in order to better capture the relationships between the different functions"
   ]
  },
  {
   "cell_type": "code",
   "execution_count": 26,
   "metadata": {},
   "outputs": [],
   "source": [
    "data={}\n",
    "data['unique_aminos']=unique_aminos\n",
    "data['available_gos']=labels\n",
    "data['mapped_gos']=parent_terms\n",
    "\n",
    "with open(data_dir+'dataset_config.yaml', 'w') as outfile:\n",
    "    yaml.dump(data, outfile)"
   ]
  },
  {
   "cell_type": "code",
   "execution_count": null,
   "metadata": {},
   "outputs": [],
   "source": []
  }
 ],
 "metadata": {
  "kernelspec": {
   "display_name": "Python 3",
   "language": "python",
   "name": "python3"
  },
  "language_info": {
   "codemirror_mode": {
    "name": "ipython",
    "version": 3
   },
   "file_extension": ".py",
   "mimetype": "text/x-python",
   "name": "python",
   "nbconvert_exporter": "python",
   "pygments_lexer": "ipython3",
   "version": "3.6.8"
  }
 },
 "nbformat": 4,
 "nbformat_minor": 2
}
